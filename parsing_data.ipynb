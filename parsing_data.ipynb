{
 "cells": [
  {
   "cell_type": "markdown",
   "metadata": {},
   "source": [
    "# Parsing Data \n",
    "All data is assumed that the file is unziped, and it is ready processed. "
   ]
  },
  {
   "cell_type": "code",
   "execution_count": 1,
   "metadata": {},
   "outputs": [],
   "source": [
    "filename_traindata = \"./train-images-idx3-ubyte\"\n",
    "filename_label = \"./train-labels-idx1-ubyte\""
   ]
  },
  {
   "cell_type": "code",
   "execution_count": 2,
   "metadata": {},
   "outputs": [],
   "source": [
    "import PIL as pil\n",
    "import matplotlib.pyplot as plt\n",
    "import numpy as np\n",
    "import pandas as pd\n",
    "\n",
    "############################################################\n",
    "# helper functions\n",
    "############################################################\n",
    "def byte_int(ubyte):\n",
    "    # convert a bytes object to an int\n",
    "    # return int\n",
    "    return int.from_bytes(ubyte, byteorder='big', signed=False)\n",
    "\n",
    "def read_int(file, nbyte):\n",
    "    # read nbyte bytes from a file \n",
    "    # return an int\n",
    "    return byte_int(file.read(nbyte))\n",
    "\n",
    "def read_array(file, nbyte, nelement):\n",
    "    # read nbyte bytes for nelement numbers from a file object\n",
    "    # return a list of nelement integers \n",
    "    arr = []\n",
    "    for _ in range(nelement):\n",
    "        element = read_int(file, nbyte)\n",
    "        arr.append(element)\n",
    "    return arr\n",
    "\n",
    "def read_narray(file, num, row, col, nbyte):\n",
    "    # read nbyte bytes for num arrays from a file object\n",
    "    # return a 2D row x column list of nelement integers \n",
    "    images = []\n",
    "    for _ in range(num):\n",
    "        array = read_array(file, nbyte, row * col)\n",
    "        images.append(array)\n",
    "    return images\n",
    "\n",
    "############################################################\n",
    "# exported functions\n",
    "############################################################\n",
    "def read_images(filename):\n",
    "    # read the idx3/image files\n",
    "    # return a dataframe object\n",
    "    with open(filename, \"rb\") as ftraindata:\n",
    "        magic_number = read_int(ftraindata, 4)\n",
    "        if magic_number != 2051:\n",
    "            raise IOError(\"Error reading a wrong file %s with this magic number %d\" \n",
    "                          % (filename, magic_number))\n",
    "\n",
    "        item_num = read_int(ftraindata, 4)\n",
    "        item_num = 1\n",
    "        row_num = read_int(ftraindata, 4)\n",
    "        col_num = read_int(ftraindata, 4)\n",
    "        images = read_narray(ftraindata, item_num, 1, row_num * col_num, 1)\n",
    "    return pd.DataFrame(images, dtype=np.uint8)\n",
    "\n",
    "def read_labels(filename):\n",
    "    # idx1 files (label files)\n",
    "    with open(filename, \"rb\") as fdata:\n",
    "        magic_number = read_int(fdata, 4)\n",
    "        if magic_number != 2049:\n",
    "            raise IOError(\"Error reading a wrong file %s with this magic number %d\" \n",
    "                          % (filename, magic_number))\n",
    "\n",
    "        nitem = read_int(fdata, 4)\n",
    "        labels = read_array(fdata, 1, nitem)\n",
    "    return pd.DataFrame({'label': labels}, dtype=np.uint8)\n",
    "\n",
    "def write_csv(df, filename):\n",
    "    # write the dataframe to the csv file, and create an image id\n",
    "    df.to_csv(filename, index=True, index_label=\"id\")"
   ]
  },
  {
   "cell_type": "code",
   "execution_count": 3,
   "metadata": {},
   "outputs": [
    {
     "data": {
      "text/html": [
       "<div>\n",
       "<style scoped>\n",
       "    .dataframe tbody tr th:only-of-type {\n",
       "        vertical-align: middle;\n",
       "    }\n",
       "\n",
       "    .dataframe tbody tr th {\n",
       "        vertical-align: top;\n",
       "    }\n",
       "\n",
       "    .dataframe thead th {\n",
       "        text-align: right;\n",
       "    }\n",
       "</style>\n",
       "<table border=\"1\" class=\"dataframe\">\n",
       "  <thead>\n",
       "    <tr style=\"text-align: right;\">\n",
       "      <th></th>\n",
       "      <th>0</th>\n",
       "      <th>1</th>\n",
       "      <th>2</th>\n",
       "      <th>3</th>\n",
       "      <th>4</th>\n",
       "      <th>5</th>\n",
       "      <th>6</th>\n",
       "      <th>7</th>\n",
       "      <th>8</th>\n",
       "      <th>9</th>\n",
       "      <th>...</th>\n",
       "      <th>774</th>\n",
       "      <th>775</th>\n",
       "      <th>776</th>\n",
       "      <th>777</th>\n",
       "      <th>778</th>\n",
       "      <th>779</th>\n",
       "      <th>780</th>\n",
       "      <th>781</th>\n",
       "      <th>782</th>\n",
       "      <th>783</th>\n",
       "    </tr>\n",
       "  </thead>\n",
       "  <tbody>\n",
       "    <tr>\n",
       "      <th>0</th>\n",
       "      <td>0</td>\n",
       "      <td>0</td>\n",
       "      <td>0</td>\n",
       "      <td>0</td>\n",
       "      <td>0</td>\n",
       "      <td>0</td>\n",
       "      <td>0</td>\n",
       "      <td>0</td>\n",
       "      <td>0</td>\n",
       "      <td>0</td>\n",
       "      <td>...</td>\n",
       "      <td>0</td>\n",
       "      <td>0</td>\n",
       "      <td>0</td>\n",
       "      <td>0</td>\n",
       "      <td>0</td>\n",
       "      <td>0</td>\n",
       "      <td>0</td>\n",
       "      <td>0</td>\n",
       "      <td>0</td>\n",
       "      <td>0</td>\n",
       "    </tr>\n",
       "  </tbody>\n",
       "</table>\n",
       "<p>1 rows × 784 columns</p>\n",
       "</div>"
      ],
      "text/plain": [
       "   0    1    2    3    4    5    6    7    8    9   ...   774  775  776  777  \\\n",
       "0    0    0    0    0    0    0    0    0    0    0 ...     0    0    0    0   \n",
       "\n",
       "   778  779  780  781  782  783  \n",
       "0    0    0    0    0    0    0  \n",
       "\n",
       "[1 rows x 784 columns]"
      ]
     },
     "execution_count": 3,
     "metadata": {},
     "output_type": "execute_result"
    }
   ],
   "source": [
    "# test the type of each row\n",
    "df_imgs = read_images(filename_traindata)\n",
    "df_imgs.head()"
   ]
  },
  {
   "cell_type": "code",
   "execution_count": 4,
   "metadata": {},
   "outputs": [
    {
     "data": {
      "text/plain": [
       "0      uint8\n",
       "1      uint8\n",
       "2      uint8\n",
       "3      uint8\n",
       "4      uint8\n",
       "5      uint8\n",
       "6      uint8\n",
       "7      uint8\n",
       "8      uint8\n",
       "9      uint8\n",
       "10     uint8\n",
       "11     uint8\n",
       "12     uint8\n",
       "13     uint8\n",
       "14     uint8\n",
       "15     uint8\n",
       "16     uint8\n",
       "17     uint8\n",
       "18     uint8\n",
       "19     uint8\n",
       "20     uint8\n",
       "21     uint8\n",
       "22     uint8\n",
       "23     uint8\n",
       "24     uint8\n",
       "25     uint8\n",
       "26     uint8\n",
       "27     uint8\n",
       "28     uint8\n",
       "29     uint8\n",
       "       ...  \n",
       "754    uint8\n",
       "755    uint8\n",
       "756    uint8\n",
       "757    uint8\n",
       "758    uint8\n",
       "759    uint8\n",
       "760    uint8\n",
       "761    uint8\n",
       "762    uint8\n",
       "763    uint8\n",
       "764    uint8\n",
       "765    uint8\n",
       "766    uint8\n",
       "767    uint8\n",
       "768    uint8\n",
       "769    uint8\n",
       "770    uint8\n",
       "771    uint8\n",
       "772    uint8\n",
       "773    uint8\n",
       "774    uint8\n",
       "775    uint8\n",
       "776    uint8\n",
       "777    uint8\n",
       "778    uint8\n",
       "779    uint8\n",
       "780    uint8\n",
       "781    uint8\n",
       "782    uint8\n",
       "783    uint8\n",
       "Length: 784, dtype: object"
      ]
     },
     "execution_count": 4,
     "metadata": {},
     "output_type": "execute_result"
    }
   ],
   "source": [
    "# test the type of each column\n",
    "df_imgs.dtypes"
   ]
  },
  {
   "cell_type": "code",
   "execution_count": 5,
   "metadata": {},
   "outputs": [
    {
     "data": {
      "text/plain": [
       "<matplotlib.image.AxesImage at 0x11661dba8>"
      ]
     },
     "execution_count": 5,
     "metadata": {},
     "output_type": "execute_result"
    },
    {
     "data": {
      "image/png": "[encoded data removed]",
      "text/plain": [
       "<matplotlib.figure.Figure at 0x110bcb630>"
      ]
     },
     "metadata": {},
     "output_type": "display_data"
    }
   ],
   "source": [
    "# test function read_array\n",
    "imagefile = open(filename_traindata, \"rb\")\n",
    "imagefile.read(16)\n",
    "array = read_array(imagefile, 1, 28*28)\n",
    "imagefile.close()\n",
    "\n",
    "img = np.array(array)\n",
    "img = img.reshape((28, 28))\n",
    "img.shape\n",
    "plt.imshow(img, cmap='binary')"
   ]
  },
  {
   "cell_type": "code",
   "execution_count": 6,
   "metadata": {},
   "outputs": [
    {
     "data": {
      "text/plain": [
       "<matplotlib.image.AxesImage at 0x1199e1e80>"
      ]
     },
     "execution_count": 6,
     "metadata": {},
     "output_type": "execute_result"
    },
    {
     "data": {
      "image/png": "[encoded data removed]",
      "text/plain": [
       "<matplotlib.figure.Figure at 0x1166485f8>"
      ]
     },
     "metadata": {},
     "output_type": "display_data"
    }
   ],
   "source": [
    "# test_function read_narray\n",
    "imagefile = open(filename_traindata, \"rb\")\n",
    "imagefile.read(16)\n",
    "arrays = read_narray(imagefile, 2, 1, 28 * 28, 1)\n",
    "imagefile.close()\n",
    "\n",
    "img = np.array(arrays)\n",
    "img = img.reshape((2, 28, 28))\n",
    "img.shape\n",
    "plt.imshow(img[0, :, :], cmap='binary')"
   ]
  },
  {
   "cell_type": "code",
   "execution_count": 7,
   "metadata": {},
   "outputs": [
    {
     "data": {
      "text/plain": [
       "<matplotlib.image.AxesImage at 0x119a6d780>"
      ]
     },
     "execution_count": 7,
     "metadata": {},
     "output_type": "execute_result"
    },
    {
     "data": {
      "image/png": "[encoded data removed]",
      "text/plain": [
       "<matplotlib.figure.Figure at 0x10d4fe2e8>"
      ]
     },
     "metadata": {},
     "output_type": "display_data"
    }
   ],
   "source": [
    "plt.imshow(img[1, :, :], cmap='binary')"
   ]
  },
  {
   "cell_type": "code",
   "execution_count": 8,
   "metadata": {},
   "outputs": [
    {
     "data": {
      "text/html": [
       "<div>\n",
       "<style scoped>\n",
       "    .dataframe tbody tr th:only-of-type {\n",
       "        vertical-align: middle;\n",
       "    }\n",
       "\n",
       "    .dataframe tbody tr th {\n",
       "        vertical-align: top;\n",
       "    }\n",
       "\n",
       "    .dataframe thead th {\n",
       "        text-align: right;\n",
       "    }\n",
       "</style>\n",
       "<table border=\"1\" class=\"dataframe\">\n",
       "  <thead>\n",
       "    <tr style=\"text-align: right;\">\n",
       "      <th></th>\n",
       "      <th>label</th>\n",
       "    </tr>\n",
       "  </thead>\n",
       "  <tbody>\n",
       "    <tr>\n",
       "      <th>0</th>\n",
       "      <td>5</td>\n",
       "    </tr>\n",
       "    <tr>\n",
       "      <th>1</th>\n",
       "      <td>0</td>\n",
       "    </tr>\n",
       "    <tr>\n",
       "      <th>2</th>\n",
       "      <td>4</td>\n",
       "    </tr>\n",
       "    <tr>\n",
       "      <th>3</th>\n",
       "      <td>1</td>\n",
       "    </tr>\n",
       "    <tr>\n",
       "      <th>4</th>\n",
       "      <td>9</td>\n",
       "    </tr>\n",
       "  </tbody>\n",
       "</table>\n",
       "</div>"
      ],
      "text/plain": [
       "   label\n",
       "0      5\n",
       "1      0\n",
       "2      4\n",
       "3      1\n",
       "4      9"
      ]
     },
     "execution_count": 8,
     "metadata": {},
     "output_type": "execute_result"
    }
   ],
   "source": [
    "# test labels\n",
    "df_labels = read_labels(filename_label)\n",
    "df_labels.head()"
   ]
  },
  {
   "cell_type": "code",
   "execution_count": 9,
   "metadata": {},
   "outputs": [
    {
     "data": {
      "text/plain": [
       "label    uint8\n",
       "dtype: object"
      ]
     },
     "execution_count": 9,
     "metadata": {},
     "output_type": "execute_result"
    }
   ],
   "source": [
    "# show the type of the labels\n",
    "df_labels.dtypes"
   ]
  },
  {
   "cell_type": "code",
   "execution_count": 10,
   "metadata": {},
   "outputs": [
    {
     "data": {
      "text/plain": [
       "0        uint8\n",
       "1        uint8\n",
       "2        uint8\n",
       "3        uint8\n",
       "4        uint8\n",
       "5        uint8\n",
       "6        uint8\n",
       "7        uint8\n",
       "8        uint8\n",
       "9        uint8\n",
       "10       uint8\n",
       "11       uint8\n",
       "12       uint8\n",
       "13       uint8\n",
       "14       uint8\n",
       "15       uint8\n",
       "16       uint8\n",
       "17       uint8\n",
       "18       uint8\n",
       "19       uint8\n",
       "20       uint8\n",
       "21       uint8\n",
       "22       uint8\n",
       "23       uint8\n",
       "24       uint8\n",
       "25       uint8\n",
       "26       uint8\n",
       "27       uint8\n",
       "28       uint8\n",
       "29       uint8\n",
       "         ...  \n",
       "755      uint8\n",
       "756      uint8\n",
       "757      uint8\n",
       "758      uint8\n",
       "759      uint8\n",
       "760      uint8\n",
       "761      uint8\n",
       "762      uint8\n",
       "763      uint8\n",
       "764      uint8\n",
       "765      uint8\n",
       "766      uint8\n",
       "767      uint8\n",
       "768      uint8\n",
       "769      uint8\n",
       "770      uint8\n",
       "771      uint8\n",
       "772      uint8\n",
       "773      uint8\n",
       "774      uint8\n",
       "775      uint8\n",
       "776      uint8\n",
       "777      uint8\n",
       "778      uint8\n",
       "779      uint8\n",
       "780      uint8\n",
       "781      uint8\n",
       "782      uint8\n",
       "783      uint8\n",
       "label    uint8\n",
       "Length: 785, dtype: object"
      ]
     },
     "execution_count": 10,
     "metadata": {},
     "output_type": "execute_result"
    }
   ],
   "source": [
    "# test the type of label after merging with the images\n",
    "import copy\n",
    "df_imgc = copy.deepcopy(df_imgs)\n",
    "df_imgc.dtypes\n",
    "df_imgc['label'] = df_labels['label']\n",
    "df_imgc.dtypes"
   ]
  },
  {
   "cell_type": "code",
   "execution_count": 11,
   "metadata": {},
   "outputs": [],
   "source": [
    "write_csv(df_imgc, \"traindata.csv\")"
   ]
  },
  {
   "cell_type": "code",
   "execution_count": 12,
   "metadata": {},
   "outputs": [
    {
     "data": {
      "text/html": [
       "<div>\n",
       "<style scoped>\n",
       "    .dataframe tbody tr th:only-of-type {\n",
       "        vertical-align: middle;\n",
       "    }\n",
       "\n",
       "    .dataframe tbody tr th {\n",
       "        vertical-align: top;\n",
       "    }\n",
       "\n",
       "    .dataframe thead th {\n",
       "        text-align: right;\n",
       "    }\n",
       "</style>\n",
       "<table border=\"1\" class=\"dataframe\">\n",
       "  <thead>\n",
       "    <tr style=\"text-align: right;\">\n",
       "      <th></th>\n",
       "      <th>id</th>\n",
       "      <th>0</th>\n",
       "      <th>1</th>\n",
       "      <th>2</th>\n",
       "      <th>3</th>\n",
       "      <th>4</th>\n",
       "      <th>5</th>\n",
       "      <th>6</th>\n",
       "      <th>7</th>\n",
       "      <th>8</th>\n",
       "      <th>...</th>\n",
       "      <th>775</th>\n",
       "      <th>776</th>\n",
       "      <th>777</th>\n",
       "      <th>778</th>\n",
       "      <th>779</th>\n",
       "      <th>780</th>\n",
       "      <th>781</th>\n",
       "      <th>782</th>\n",
       "      <th>783</th>\n",
       "      <th>label</th>\n",
       "    </tr>\n",
       "  </thead>\n",
       "  <tbody>\n",
       "    <tr>\n",
       "      <th>0</th>\n",
       "      <td>0</td>\n",
       "      <td>0</td>\n",
       "      <td>0</td>\n",
       "      <td>0</td>\n",
       "      <td>0</td>\n",
       "      <td>0</td>\n",
       "      <td>0</td>\n",
       "      <td>0</td>\n",
       "      <td>0</td>\n",
       "      <td>0</td>\n",
       "      <td>...</td>\n",
       "      <td>0</td>\n",
       "      <td>0</td>\n",
       "      <td>0</td>\n",
       "      <td>0</td>\n",
       "      <td>0</td>\n",
       "      <td>0</td>\n",
       "      <td>0</td>\n",
       "      <td>0</td>\n",
       "      <td>0</td>\n",
       "      <td>5</td>\n",
       "    </tr>\n",
       "  </tbody>\n",
       "</table>\n",
       "<p>1 rows × 786 columns</p>\n",
       "</div>"
      ],
      "text/plain": [
       "   id  0  1  2  3  4  5  6  7  8  ...    775  776  777  778  779  780  781  \\\n",
       "0   0  0  0  0  0  0  0  0  0  0  ...      0    0    0    0    0    0    0   \n",
       "\n",
       "   782  783  label  \n",
       "0    0    0      5  \n",
       "\n",
       "[1 rows x 786 columns]"
      ]
     },
     "execution_count": 12,
     "metadata": {},
     "output_type": "execute_result"
    }
   ],
   "source": [
    "df_train = pd.read_csv(\"./traindata.csv\", dtype=np.uint8)\n",
    "df_train.head()"
   ]
  },
  {
   "cell_type": "code",
   "execution_count": 13,
   "metadata": {},
   "outputs": [
    {
     "data": {
      "text/plain": [
       "id       uint8\n",
       "0        uint8\n",
       "1        uint8\n",
       "2        uint8\n",
       "3        uint8\n",
       "4        uint8\n",
       "5        uint8\n",
       "6        uint8\n",
       "7        uint8\n",
       "8        uint8\n",
       "9        uint8\n",
       "10       uint8\n",
       "11       uint8\n",
       "12       uint8\n",
       "13       uint8\n",
       "14       uint8\n",
       "15       uint8\n",
       "16       uint8\n",
       "17       uint8\n",
       "18       uint8\n",
       "19       uint8\n",
       "20       uint8\n",
       "21       uint8\n",
       "22       uint8\n",
       "23       uint8\n",
       "24       uint8\n",
       "25       uint8\n",
       "26       uint8\n",
       "27       uint8\n",
       "28       uint8\n",
       "         ...  \n",
       "755      uint8\n",
       "756      uint8\n",
       "757      uint8\n",
       "758      uint8\n",
       "759      uint8\n",
       "760      uint8\n",
       "761      uint8\n",
       "762      uint8\n",
       "763      uint8\n",
       "764      uint8\n",
       "765      uint8\n",
       "766      uint8\n",
       "767      uint8\n",
       "768      uint8\n",
       "769      uint8\n",
       "770      uint8\n",
       "771      uint8\n",
       "772      uint8\n",
       "773      uint8\n",
       "774      uint8\n",
       "775      uint8\n",
       "776      uint8\n",
       "777      uint8\n",
       "778      uint8\n",
       "779      uint8\n",
       "780      uint8\n",
       "781      uint8\n",
       "782      uint8\n",
       "783      uint8\n",
       "label    uint8\n",
       "Length: 786, dtype: object"
      ]
     },
     "execution_count": 13,
     "metadata": {},
     "output_type": "execute_result"
    }
   ],
   "source": [
    "df_train.dtypes"
   ]
  },
  {
   "cell_type": "code",
   "execution_count": 14,
   "metadata": {},
   "outputs": [
    {
     "data": {
      "text/plain": [
       "(1, 786)"
      ]
     },
     "execution_count": 14,
     "metadata": {},
     "output_type": "execute_result"
    }
   ],
   "source": [
    "df_train.shape"
   ]
  },
  {
   "cell_type": "code",
   "execution_count": 15,
   "metadata": {},
   "outputs": [
    {
     "data": {
      "text/plain": [
       "(28, 28)"
      ]
     },
     "execution_count": 15,
     "metadata": {},
     "output_type": "execute_result"
    }
   ],
   "source": [
    "# Side Note: DO NOT USE df[df.columns.difference(['b'])]\n",
    "# it will sort the columns name.\n",
    "\n",
    "# Example how to plot images\n",
    "df_imgs = df_train.drop(['label', 'id'], axis=1)\n",
    "df_imgs\n",
    "np_img = np.array(df_imgs)\n",
    "\n",
    "np_img = np_img.reshape((28, 28))\n",
    "np_img.shape"
   ]
  },
  {
   "cell_type": "code",
   "execution_count": 16,
   "metadata": {},
   "outputs": [
    {
     "data": {
      "image/png": "[encoded data removed]",
      "text/plain": [
       "<PIL.Image.Image image mode=L size=28x28 at 0x119D52588>"
      ]
     },
     "execution_count": 16,
     "metadata": {},
     "output_type": "execute_result"
    }
   ],
   "source": [
    "img = pil.Image.fromarray(np_img, mode='L')\n",
    "img"
   ]
  },
  {
   "cell_type": "code",
   "execution_count": 17,
   "metadata": {},
   "outputs": [
    {
     "data": {
      "text/plain": [
       "<matplotlib.colorbar.Colorbar at 0x119cabe80>"
      ]
     },
     "execution_count": 17,
     "metadata": {},
     "output_type": "execute_result"
    },
    {
     "data": {
      "image/png": "[encoded data removed]",
      "text/plain": [
       "<matplotlib.figure.Figure at 0x119c5a668>"
      ]
     },
     "metadata": {},
     "output_type": "display_data"
    }
   ],
   "source": [
    "plt.imshow(np_img, cmap='binary')\n",
    "plt.colorbar()\n",
    "# plt.savefig(\"test_np.png\")"
   ]
  },
  {
   "cell_type": "code",
   "execution_count": null,
   "metadata": {},
   "outputs": [],
   "source": []
  }
 ],
 "metadata": {
  "kernelspec": {
   "display_name": "Python 3",
   "language": "python",
   "name": "python3"
  },
  "language_info": {
   "codemirror_mode": {
    "name": "ipython",
    "version": 3
   },
   "file_extension": ".py",
   "mimetype": "text/x-python",
   "name": "python",
   "nbconvert_exporter": "python",
   "pygments_lexer": "ipython3",
   "version": "3.6.4"
  }
 },
 "nbformat": 4,
 "nbformat_minor": 2
}

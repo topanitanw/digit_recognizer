{
 "cells": [
  {
   "cell_type": "markdown",
   "metadata": {
    "toc": true
   },
   "source": [
    "<h1>Table of Contents<span class=\"tocSkip\"></span></h1>\n",
    "<div class=\"toc\"><ul class=\"toc-item\"><li><span><a href=\"#Deep-Learning-with-the-Edge-Based-Transformation\" data-toc-modified-id=\"Deep-Learning-with-the-Edge-Based-Transformation-1\"><span class=\"toc-item-num\">1&nbsp;&nbsp;</span>Deep Learning with the Edge-Based Transformation</a></span><ul class=\"toc-item\"><li><span><a href=\"#A-Simple-Network\" data-toc-modified-id=\"A-Simple-Network-1.1\"><span class=\"toc-item-num\">1.1&nbsp;&nbsp;</span>A Simple Network</a></span></li><li><span><a href=\"#A-More-Complex-Network\" data-toc-modified-id=\"A-More-Complex-Network-1.2\"><span class=\"toc-item-num\">1.2&nbsp;&nbsp;</span>A More Complex Network</a></span><ul class=\"toc-item\"><li><span><a href=\"#Adding-More-Nodes\" data-toc-modified-id=\"Adding-More-Nodes-1.2.1\"><span class=\"toc-item-num\">1.2.1&nbsp;&nbsp;</span>Adding More Nodes</a></span></li><li><span><a href=\"#Adding-More-Layers\" data-toc-modified-id=\"Adding-More-Layers-1.2.2\"><span class=\"toc-item-num\">1.2.2&nbsp;&nbsp;</span>Adding More Layers</a></span></li><li><span><a href=\"#Adding-More-Nodes-and-More-Layers-to-the-Network\" data-toc-modified-id=\"Adding-More-Nodes-and-More-Layers-to-the-Network-1.2.3\"><span class=\"toc-item-num\">1.2.3&nbsp;&nbsp;</span>Adding More Nodes and More Layers to the Network</a></span></li></ul></li><li><span><a href=\"#Discussion\" data-toc-modified-id=\"Discussion-1.3\"><span class=\"toc-item-num\">1.3&nbsp;&nbsp;</span>Discussion</a></span></li></ul></li></ul></div>"
   ]
  },
  {
   "cell_type": "markdown",
   "metadata": {},
   "source": [
    "# Deep Learning with the Edge-Based Transformation\n",
    "Note that this main explaination of the deep learning is in the deep_learning_raw_pixel notebook. This notebook would contains only the extra description of the edge-based transformation. \n",
    "\n",
    "In this notebook, we adopt the edge-based transformation to transform the image, and feed the images to train the model. "
   ]
  },
  {
   "cell_type": "code",
   "execution_count": 1,
   "metadata": {},
   "outputs": [],
   "source": [
    "import tensorflow as tf"
   ]
  },
  {
   "cell_type": "code",
   "execution_count": 2,
   "metadata": {},
   "outputs": [],
   "source": [
    "import pandas as pd\n",
    "from autograd import numpy as np"
   ]
  },
  {
   "cell_type": "code",
   "execution_count": 3,
   "metadata": {},
   "outputs": [],
   "source": [
    "df_train = pd.read_csv(\"./traindata.csv\", dtype=np.uint8)"
   ]
  },
  {
   "cell_type": "code",
   "execution_count": 4,
   "metadata": {},
   "outputs": [
    {
     "data": {
      "text/html": [
       "<div>\n",
       "<style scoped>\n",
       "    .dataframe tbody tr th:only-of-type {\n",
       "        vertical-align: middle;\n",
       "    }\n",
       "\n",
       "    .dataframe tbody tr th {\n",
       "        vertical-align: top;\n",
       "    }\n",
       "\n",
       "    .dataframe thead th {\n",
       "        text-align: right;\n",
       "    }\n",
       "</style>\n",
       "<table border=\"1\" class=\"dataframe\">\n",
       "  <thead>\n",
       "    <tr style=\"text-align: right;\">\n",
       "      <th></th>\n",
       "      <th>id</th>\n",
       "      <th>0</th>\n",
       "      <th>1</th>\n",
       "      <th>2</th>\n",
       "      <th>3</th>\n",
       "      <th>4</th>\n",
       "      <th>5</th>\n",
       "      <th>6</th>\n",
       "      <th>7</th>\n",
       "      <th>8</th>\n",
       "      <th>...</th>\n",
       "      <th>775</th>\n",
       "      <th>776</th>\n",
       "      <th>777</th>\n",
       "      <th>778</th>\n",
       "      <th>779</th>\n",
       "      <th>780</th>\n",
       "      <th>781</th>\n",
       "      <th>782</th>\n",
       "      <th>783</th>\n",
       "      <th>label</th>\n",
       "    </tr>\n",
       "  </thead>\n",
       "  <tbody>\n",
       "    <tr>\n",
       "      <th>0</th>\n",
       "      <td>0</td>\n",
       "      <td>0</td>\n",
       "      <td>0</td>\n",
       "      <td>0</td>\n",
       "      <td>0</td>\n",
       "      <td>0</td>\n",
       "      <td>0</td>\n",
       "      <td>0</td>\n",
       "      <td>0</td>\n",
       "      <td>0</td>\n",
       "      <td>...</td>\n",
       "      <td>0</td>\n",
       "      <td>0</td>\n",
       "      <td>0</td>\n",
       "      <td>0</td>\n",
       "      <td>0</td>\n",
       "      <td>0</td>\n",
       "      <td>0</td>\n",
       "      <td>0</td>\n",
       "      <td>0</td>\n",
       "      <td>5</td>\n",
       "    </tr>\n",
       "    <tr>\n",
       "      <th>1</th>\n",
       "      <td>1</td>\n",
       "      <td>0</td>\n",
       "      <td>0</td>\n",
       "      <td>0</td>\n",
       "      <td>0</td>\n",
       "      <td>0</td>\n",
       "      <td>0</td>\n",
       "      <td>0</td>\n",
       "      <td>0</td>\n",
       "      <td>0</td>\n",
       "      <td>...</td>\n",
       "      <td>0</td>\n",
       "      <td>0</td>\n",
       "      <td>0</td>\n",
       "      <td>0</td>\n",
       "      <td>0</td>\n",
       "      <td>0</td>\n",
       "      <td>0</td>\n",
       "      <td>0</td>\n",
       "      <td>0</td>\n",
       "      <td>0</td>\n",
       "    </tr>\n",
       "    <tr>\n",
       "      <th>2</th>\n",
       "      <td>2</td>\n",
       "      <td>0</td>\n",
       "      <td>0</td>\n",
       "      <td>0</td>\n",
       "      <td>0</td>\n",
       "      <td>0</td>\n",
       "      <td>0</td>\n",
       "      <td>0</td>\n",
       "      <td>0</td>\n",
       "      <td>0</td>\n",
       "      <td>...</td>\n",
       "      <td>0</td>\n",
       "      <td>0</td>\n",
       "      <td>0</td>\n",
       "      <td>0</td>\n",
       "      <td>0</td>\n",
       "      <td>0</td>\n",
       "      <td>0</td>\n",
       "      <td>0</td>\n",
       "      <td>0</td>\n",
       "      <td>4</td>\n",
       "    </tr>\n",
       "  </tbody>\n",
       "</table>\n",
       "<p>3 rows × 786 columns</p>\n",
       "</div>"
      ],
      "text/plain": [
       "   id  0  1  2  3  4  5  6  7  8  ...    775  776  777  778  779  780  781  \\\n",
       "0   0  0  0  0  0  0  0  0  0  0  ...      0    0    0    0    0    0    0   \n",
       "1   1  0  0  0  0  0  0  0  0  0  ...      0    0    0    0    0    0    0   \n",
       "2   2  0  0  0  0  0  0  0  0  0  ...      0    0    0    0    0    0    0   \n",
       "\n",
       "   782  783  label  \n",
       "0    0    0      5  \n",
       "1    0    0      0  \n",
       "2    0    0      4  \n",
       "\n",
       "[3 rows x 786 columns]"
      ]
     },
     "execution_count": 4,
     "metadata": {},
     "output_type": "execute_result"
    }
   ],
   "source": [
    "df_train.head(3)"
   ]
  },
  {
   "cell_type": "code",
   "execution_count": 5,
   "metadata": {},
   "outputs": [
    {
     "data": {
      "text/plain": [
       "(60000, 786)"
      ]
     },
     "execution_count": 5,
     "metadata": {},
     "output_type": "execute_result"
    }
   ],
   "source": [
    "df_train.shape"
   ]
  },
  {
   "cell_type": "code",
   "execution_count": 6,
   "metadata": {},
   "outputs": [
    {
     "name": "stdout",
     "output_type": "stream",
     "text": [
      "x_original shape:  (784, 60000)\n"
     ]
    },
    {
     "name": "stderr",
     "output_type": "stream",
     "text": [
      "/home/panitanw/anaconda3/lib/python3.6/site-packages/ipykernel_launcher.py:2: FutureWarning: Method .as_matrix will be removed in a future version. Use .values instead.\n",
      "  \n"
     ]
    }
   ],
   "source": [
    "df_imgs = df_train.drop(['label', 'id'], axis=1)\n",
    "x_original = df_imgs.as_matrix().T\n",
    "\n",
    "print(\"x_original shape: \", x_original.shape)"
   ]
  },
  {
   "cell_type": "markdown",
   "metadata": {},
   "source": [
    "Here, we extract the edge-based feature from the data. "
   ]
  },
  {
   "cell_type": "code",
   "execution_count": 7,
   "metadata": {},
   "outputs": [
    {
     "name": "stdout",
     "output_type": "stream",
     "text": [
      "shape of original input  (784, 60000)\n",
      "shape of transformed input  (1352, 60000)\n"
     ]
    }
   ],
   "source": [
    "# extract edge-based features\n",
    "import data_transformer\n",
    "x_original_edgebased_features = data_transformer.edge_transformer(x_original)   \n",
    "\n",
    "print('shape of original input ', x_original.shape)\n",
    "print('shape of transformed input ', x_original_edgebased_features.shape)"
   ]
  },
  {
   "cell_type": "code",
   "execution_count": 8,
   "metadata": {},
   "outputs": [
    {
     "name": "stdout",
     "output_type": "stream",
     "text": [
      "y_original shape:  (60000,)\n"
     ]
    },
    {
     "name": "stderr",
     "output_type": "stream",
     "text": [
      "/home/panitanw/anaconda3/lib/python3.6/site-packages/ipykernel_launcher.py:1: FutureWarning: Method .as_matrix will be removed in a future version. Use .values instead.\n",
      "  \"\"\"Entry point for launching an IPython kernel.\n"
     ]
    }
   ],
   "source": [
    "y_original = df_train['label'].as_matrix()\n",
    "\n",
    "print(\"y_original shape: \", y_original.shape)"
   ]
  },
  {
   "cell_type": "code",
   "execution_count": 9,
   "metadata": {},
   "outputs": [],
   "source": [
    "# for testing purposes, this would minimize the training time of the model while testing the \n",
    "# code/model.\n",
    "\n",
    "# num_sample = 5000\n",
    "# inds = np.random.permutation(y_original.shape[0])[:num_sample]\n",
    "# x_sample = x_original_edgebased_features[:,inds].T\n",
    "# y_sample = y_original[inds]"
   ]
  },
  {
   "cell_type": "code",
   "execution_count": 10,
   "metadata": {},
   "outputs": [
    {
     "name": "stdout",
     "output_type": "stream",
     "text": [
      "x_sample shape:  (5000, 1352)\n",
      "y_sample shape:  (5000,)\n"
     ]
    }
   ],
   "source": [
    "# print(\"x_sample shape: \", x_sample.shape)\n",
    "# print(\"y_sample shape: \", y_sample.shape)"
   ]
  },
  {
   "cell_type": "code",
   "execution_count": 36,
   "metadata": {},
   "outputs": [
    {
     "name": "stdout",
     "output_type": "stream",
     "text": [
      "x shape:  (60000, 1352)\n",
      "y shape:  (60000,)\n"
     ]
    }
   ],
   "source": [
    "x = x_original_edgebased_features.T\n",
    "y = y_original\n",
    "\n",
    "print(\"x shape: \", x.shape)\n",
    "print(\"y shape: \", y.shape)"
   ]
  },
  {
   "cell_type": "code",
   "execution_count": 37,
   "metadata": {},
   "outputs": [],
   "source": [
    "xmax = np.max(x)\n",
    "x_scale = x/xmax"
   ]
  },
  {
   "cell_type": "code",
   "execution_count": 51,
   "metadata": {},
   "outputs": [
    {
     "name": "stdout",
     "output_type": "stream",
     "text": [
      "input_dim:  1352\n",
      "nb_classes:  10\n"
     ]
    }
   ],
   "source": [
    "input_dim = x.shape[1]\n",
    "nb_classes = 10\n",
    "\n",
    "print(\"input_dim: \", input_dim)\n",
    "print(\"nb_classes: \", nb_classes)"
   ]
  },
  {
   "cell_type": "markdown",
   "metadata": {},
   "source": [
    "## A Simple Network\n",
    "This model has only three layers: input, one hidden, and the output layers."
   ]
  },
  {
   "cell_type": "code",
   "execution_count": 39,
   "metadata": {},
   "outputs": [],
   "source": [
    "model = tf.keras.models.Sequential()\n",
    "# model.add(tf.keras.layers.Flatten())\n",
    "model.add(tf.keras.layers.Dense(512, \n",
    "                                input_dim=input_dim, \n",
    "                                activation=tf.nn.relu))\n",
    "model.add(tf.keras.layers.Dropout(0.2))\n",
    "model.add(tf.keras.layers.Dense(10, activation=tf.nn.softmax))"
   ]
  },
  {
   "cell_type": "code",
   "execution_count": 40,
   "metadata": {},
   "outputs": [],
   "source": [
    "model.compile(loss='sparse_categorical_crossentropy',\n",
    "              optimizer='adam', \n",
    "              metrics=['accuracy'])"
   ]
  },
  {
   "cell_type": "code",
   "execution_count": 41,
   "metadata": {},
   "outputs": [
    {
     "name": "stdout",
     "output_type": "stream",
     "text": [
      "Epoch 1/10\n",
      " - 31s - loss: 0.1394 - acc: 0.9567\n",
      "Epoch 2/10\n",
      " - 30s - loss: 0.0707 - acc: 0.9783\n",
      "Epoch 3/10\n",
      " - 32s - loss: 0.0543 - acc: 0.9838\n",
      "Epoch 4/10\n",
      " - 31s - loss: 0.0462 - acc: 0.9851\n",
      "Epoch 5/10\n",
      " - 31s - loss: 0.0408 - acc: 0.9870\n",
      "Epoch 6/10\n",
      " - 34s - loss: 0.0341 - acc: 0.9889\n",
      "Epoch 7/10\n",
      " - 37s - loss: 0.0322 - acc: 0.9898\n",
      "Epoch 8/10\n",
      " - 32s - loss: 0.0317 - acc: 0.9900\n",
      "Epoch 9/10\n",
      " - 33s - loss: 0.0290 - acc: 0.9914\n",
      "Epoch 10/10\n",
      " - 34s - loss: 0.0261 - acc: 0.9912\n"
     ]
    },
    {
     "data": {
      "text/plain": [
       "<tensorflow.python.keras._impl.keras.callbacks.History at 0x7fe3cd500048>"
      ]
     },
     "execution_count": 41,
     "metadata": {},
     "output_type": "execute_result"
    }
   ],
   "source": [
    "model.fit(x_scale, y, epochs=10, verbose=2)"
   ]
  },
  {
   "cell_type": "markdown",
   "metadata": {},
   "source": [
    "Loading the testing data to evaluate the model."
   ]
  },
  {
   "cell_type": "code",
   "execution_count": 42,
   "metadata": {},
   "outputs": [
    {
     "data": {
      "text/html": [
       "<div>\n",
       "<style scoped>\n",
       "    .dataframe tbody tr th:only-of-type {\n",
       "        vertical-align: middle;\n",
       "    }\n",
       "\n",
       "    .dataframe tbody tr th {\n",
       "        vertical-align: top;\n",
       "    }\n",
       "\n",
       "    .dataframe thead th {\n",
       "        text-align: right;\n",
       "    }\n",
       "</style>\n",
       "<table border=\"1\" class=\"dataframe\">\n",
       "  <thead>\n",
       "    <tr style=\"text-align: right;\">\n",
       "      <th></th>\n",
       "      <th>id</th>\n",
       "      <th>0</th>\n",
       "      <th>1</th>\n",
       "      <th>2</th>\n",
       "      <th>3</th>\n",
       "      <th>4</th>\n",
       "      <th>5</th>\n",
       "      <th>6</th>\n",
       "      <th>7</th>\n",
       "      <th>8</th>\n",
       "      <th>...</th>\n",
       "      <th>775</th>\n",
       "      <th>776</th>\n",
       "      <th>777</th>\n",
       "      <th>778</th>\n",
       "      <th>779</th>\n",
       "      <th>780</th>\n",
       "      <th>781</th>\n",
       "      <th>782</th>\n",
       "      <th>783</th>\n",
       "      <th>label</th>\n",
       "    </tr>\n",
       "  </thead>\n",
       "  <tbody>\n",
       "    <tr>\n",
       "      <th>0</th>\n",
       "      <td>0</td>\n",
       "      <td>0</td>\n",
       "      <td>0</td>\n",
       "      <td>0</td>\n",
       "      <td>0</td>\n",
       "      <td>0</td>\n",
       "      <td>0</td>\n",
       "      <td>0</td>\n",
       "      <td>0</td>\n",
       "      <td>0</td>\n",
       "      <td>...</td>\n",
       "      <td>0</td>\n",
       "      <td>0</td>\n",
       "      <td>0</td>\n",
       "      <td>0</td>\n",
       "      <td>0</td>\n",
       "      <td>0</td>\n",
       "      <td>0</td>\n",
       "      <td>0</td>\n",
       "      <td>0</td>\n",
       "      <td>7</td>\n",
       "    </tr>\n",
       "    <tr>\n",
       "      <th>1</th>\n",
       "      <td>1</td>\n",
       "      <td>0</td>\n",
       "      <td>0</td>\n",
       "      <td>0</td>\n",
       "      <td>0</td>\n",
       "      <td>0</td>\n",
       "      <td>0</td>\n",
       "      <td>0</td>\n",
       "      <td>0</td>\n",
       "      <td>0</td>\n",
       "      <td>...</td>\n",
       "      <td>0</td>\n",
       "      <td>0</td>\n",
       "      <td>0</td>\n",
       "      <td>0</td>\n",
       "      <td>0</td>\n",
       "      <td>0</td>\n",
       "      <td>0</td>\n",
       "      <td>0</td>\n",
       "      <td>0</td>\n",
       "      <td>2</td>\n",
       "    </tr>\n",
       "    <tr>\n",
       "      <th>2</th>\n",
       "      <td>2</td>\n",
       "      <td>0</td>\n",
       "      <td>0</td>\n",
       "      <td>0</td>\n",
       "      <td>0</td>\n",
       "      <td>0</td>\n",
       "      <td>0</td>\n",
       "      <td>0</td>\n",
       "      <td>0</td>\n",
       "      <td>0</td>\n",
       "      <td>...</td>\n",
       "      <td>0</td>\n",
       "      <td>0</td>\n",
       "      <td>0</td>\n",
       "      <td>0</td>\n",
       "      <td>0</td>\n",
       "      <td>0</td>\n",
       "      <td>0</td>\n",
       "      <td>0</td>\n",
       "      <td>0</td>\n",
       "      <td>1</td>\n",
       "    </tr>\n",
       "  </tbody>\n",
       "</table>\n",
       "<p>3 rows × 786 columns</p>\n",
       "</div>"
      ],
      "text/plain": [
       "   id  0  1  2  3  4  5  6  7  8  ...    775  776  777  778  779  780  781  \\\n",
       "0   0  0  0  0  0  0  0  0  0  0  ...      0    0    0    0    0    0    0   \n",
       "1   1  0  0  0  0  0  0  0  0  0  ...      0    0    0    0    0    0    0   \n",
       "2   2  0  0  0  0  0  0  0  0  0  ...      0    0    0    0    0    0    0   \n",
       "\n",
       "   782  783  label  \n",
       "0    0    0      7  \n",
       "1    0    0      2  \n",
       "2    0    0      1  \n",
       "\n",
       "[3 rows x 786 columns]"
      ]
     },
     "execution_count": 42,
     "metadata": {},
     "output_type": "execute_result"
    }
   ],
   "source": [
    "df_testdata = pd.read_csv(\"./testdata.csv\", dtype=np.uint8)\n",
    "df_testdata.head(3)"
   ]
  },
  {
   "cell_type": "code",
   "execution_count": 43,
   "metadata": {},
   "outputs": [
    {
     "name": "stdout",
     "output_type": "stream",
     "text": [
      "xtest shape: (784, 10000)\n"
     ]
    },
    {
     "name": "stderr",
     "output_type": "stream",
     "text": [
      "/home/panitanw/anaconda3/lib/python3.6/site-packages/ipykernel_launcher.py:2: FutureWarning: Method .as_matrix will be removed in a future version. Use .values instead.\n",
      "  \n"
     ]
    }
   ],
   "source": [
    "df_testimgs = df_testdata.drop(['label', 'id'], axis=1)\n",
    "xtest = df_testimgs.as_matrix().T\n",
    "\n",
    "print(\"xtest shape:\", xtest.shape)"
   ]
  },
  {
   "cell_type": "markdown",
   "metadata": {},
   "source": [
    "We also need to extract the edge-based features from the testing images, and we also need to scale the feature-extracted images."
   ]
  },
  {
   "cell_type": "code",
   "execution_count": 44,
   "metadata": {},
   "outputs": [
    {
     "name": "stdout",
     "output_type": "stream",
     "text": [
      "shape of original input  (1352, 10000)\n"
     ]
    }
   ],
   "source": [
    "xtest_edgebased_features = data_transformer.edge_transformer(xtest)   \n",
    "\n",
    "print('shape of original input ', xtest_edgebased_features.shape)"
   ]
  },
  {
   "cell_type": "code",
   "execution_count": 45,
   "metadata": {},
   "outputs": [
    {
     "name": "stdout",
     "output_type": "stream",
     "text": [
      "ytest shape: (10000,)\n"
     ]
    },
    {
     "name": "stderr",
     "output_type": "stream",
     "text": [
      "/home/panitanw/anaconda3/lib/python3.6/site-packages/ipykernel_launcher.py:1: FutureWarning: Method .as_matrix will be removed in a future version. Use .values instead.\n",
      "  \"\"\"Entry point for launching an IPython kernel.\n"
     ]
    }
   ],
   "source": [
    "ytest = df_testdata['label'].as_matrix()\n",
    "# ytest = ytest.reshape((10000, 1)).T\n",
    "print(\"ytest shape:\", ytest.shape)"
   ]
  },
  {
   "cell_type": "code",
   "execution_count": 46,
   "metadata": {},
   "outputs": [],
   "source": [
    "xtest_scale = xtest_edgebased_features/xmax\n",
    "\n",
    "xtest_scale = xtest_scale.T"
   ]
  },
  {
   "cell_type": "code",
   "execution_count": 47,
   "metadata": {},
   "outputs": [
    {
     "name": "stdout",
     "output_type": "stream",
     "text": [
      "10000/10000 [==============================]10000/10000 [==============================] - 2s 163us/step\n",
      "\n"
     ]
    },
    {
     "data": {
      "text/plain": [
       "[0.071228929195043741, 0.9849]"
      ]
     },
     "execution_count": 47,
     "metadata": {},
     "output_type": "execute_result"
    }
   ],
   "source": [
    "model.evaluate(xtest_scale, ytest)"
   ]
  },
  {
   "cell_type": "markdown",
   "metadata": {},
   "source": [
    "With a simple network, we can achievve the 98 percent accuracy. \n",
    "\n",
    "## A More Complex Network\n",
    "\n",
    "### Adding More Nodes\n",
    "We increase the number of nodes in a hidden layer from 512 nodes to 1352 nodes. "
   ]
  },
  {
   "cell_type": "code",
   "execution_count": 52,
   "metadata": {},
   "outputs": [],
   "source": [
    "model = tf.keras.models.Sequential()\n",
    "# model.add(tf.keras.layers.Flatten())\n",
    "model.add(tf.keras.layers.Dense(input_dim, \n",
    "                                input_dim=input_dim, \n",
    "                                activation=tf.nn.relu))\n",
    "model.add(tf.keras.layers.Dropout(0.2))\n",
    "model.add(tf.keras.layers.Dense(nb_classes, activation=tf.nn.softmax))\n",
    "\n",
    "model.compile(loss='sparse_categorical_crossentropy',\n",
    "              optimizer='adam', \n",
    "              metrics=['accuracy'])"
   ]
  },
  {
   "cell_type": "code",
   "execution_count": 53,
   "metadata": {},
   "outputs": [
    {
     "name": "stdout",
     "output_type": "stream",
     "text": [
      "Epoch 1/10\n",
      " - 66s - loss: 0.1420 - acc: 0.9553\n",
      "Epoch 2/10\n",
      " - 61s - loss: 0.0732 - acc: 0.9770\n",
      "Epoch 3/10\n",
      " - 65s - loss: 0.0613 - acc: 0.9803\n",
      "Epoch 4/10\n",
      " - 65s - loss: 0.0509 - acc: 0.9843\n",
      "Epoch 5/10\n",
      " - 66s - loss: 0.0420 - acc: 0.9875\n",
      "Epoch 6/10\n",
      " - 65s - loss: 0.0402 - acc: 0.9876\n",
      "Epoch 7/10\n",
      " - 67s - loss: 0.0361 - acc: 0.9888\n",
      "Epoch 8/10\n",
      " - 58s - loss: 0.0331 - acc: 0.9903\n",
      "Epoch 9/10\n",
      " - 59s - loss: 0.0338 - acc: 0.9908\n",
      "Epoch 10/10\n",
      " - 65s - loss: 0.0310 - acc: 0.9914\n"
     ]
    },
    {
     "data": {
      "text/plain": [
       "<tensorflow.python.keras._impl.keras.callbacks.History at 0x7fe41e0bfe48>"
      ]
     },
     "execution_count": 53,
     "metadata": {},
     "output_type": "execute_result"
    }
   ],
   "source": [
    "model.fit(x_scale, y, epochs=10, verbose=2)"
   ]
  },
  {
   "cell_type": "code",
   "execution_count": 54,
   "metadata": {},
   "outputs": [
    {
     "name": "stdout",
     "output_type": "stream",
     "text": [
      "10000/10000 [==============================]10000/10000 [==============================] - 3s 298us/step\n",
      "\n"
     ]
    },
    {
     "data": {
      "text/plain": [
       "[0.049635707115774128, 0.98750000000000004]"
      ]
     },
     "execution_count": 54,
     "metadata": {},
     "output_type": "execute_result"
    }
   ],
   "source": [
    "model.evaluate(xtest_scale, ytest)"
   ]
  },
  {
   "cell_type": "markdown",
   "metadata": {},
   "source": [
    "From the output of the evaluation method, the accuracy is not improved from the simple model significantly."
   ]
  },
  {
   "cell_type": "markdown",
   "metadata": {},
   "source": [
    "### Adding More Layers\n",
    "We aim to increase more accuracy by adding more layers to the network."
   ]
  },
  {
   "cell_type": "code",
   "execution_count": 61,
   "metadata": {},
   "outputs": [],
   "source": [
    "model = tf.keras.models.Sequential()\n",
    "# model.add(tf.keras.layers.Flatten())\n",
    "model.add(tf.keras.layers.Dense(512, \n",
    "                                input_dim=input_dim, \n",
    "                                activation=tf.nn.relu))\n",
    "model.add(tf.keras.layers.Dropout(0.2))\n",
    "model.add(tf.keras.layers.Dense(512,\n",
    "                                activation=tf.nn.relu))\n",
    "model.add(tf.keras.layers.Dropout(0.2))\n",
    "model.add(tf.keras.layers.Dense(nb_classes, activation=tf.nn.softmax))\n",
    "\n",
    "model.compile(loss='sparse_categorical_crossentropy',\n",
    "              optimizer='adam', \n",
    "              metrics=['accuracy'])"
   ]
  },
  {
   "cell_type": "code",
   "execution_count": 62,
   "metadata": {},
   "outputs": [
    {
     "name": "stdout",
     "output_type": "stream",
     "text": [
      "Epoch 1/10\n",
      " - 45s - loss: 0.1588 - acc: 0.9514\n",
      "Epoch 2/10\n",
      " - 43s - loss: 0.0860 - acc: 0.9732\n",
      "Epoch 3/10\n",
      " - 46s - loss: 0.0683 - acc: 0.9792\n",
      "Epoch 4/10\n",
      " - 42s - loss: 0.0612 - acc: 0.9815\n",
      "Epoch 5/10\n",
      " - 42s - loss: 0.0509 - acc: 0.9846\n",
      "Epoch 6/10\n",
      " - 42s - loss: 0.0501 - acc: 0.9851\n",
      "Epoch 7/10\n",
      " - 40s - loss: 0.0489 - acc: 0.9856\n",
      "Epoch 8/10\n",
      " - 41s - loss: 0.0468 - acc: 0.9865\n",
      "Epoch 9/10\n",
      " - 39s - loss: 0.0409 - acc: 0.9888\n",
      "Epoch 10/10\n",
      " - 42s - loss: 0.0419 - acc: 0.9883\n"
     ]
    },
    {
     "data": {
      "text/plain": [
       "<tensorflow.python.keras._impl.keras.callbacks.History at 0x7fe41d12a860>"
      ]
     },
     "execution_count": 62,
     "metadata": {},
     "output_type": "execute_result"
    }
   ],
   "source": [
    "model.fit(x_scale, y, epochs=10, verbose=2)"
   ]
  },
  {
   "cell_type": "code",
   "execution_count": 63,
   "metadata": {},
   "outputs": [
    {
     "name": "stdout",
     "output_type": "stream",
     "text": [
      "10000/10000 [==============================]10000/10000 [==============================] - 3s 258us/step\n",
      "\n"
     ]
    },
    {
     "data": {
      "text/plain": [
       "[0.066465662567854814, 0.98460000000000003]"
      ]
     },
     "execution_count": 63,
     "metadata": {},
     "output_type": "execute_result"
    }
   ],
   "source": [
    "model.evaluate(xtest_scale, ytest)"
   ]
  },
  {
   "cell_type": "markdown",
   "metadata": {},
   "source": [
    "The accuracy of adding more layers is 98%."
   ]
  },
  {
   "cell_type": "markdown",
   "metadata": {},
   "source": [
    "### Adding More Nodes and More Layers to the Network \n",
    "In this section, we add more layers and more nodes to the network, and measure the accuracy of the model."
   ]
  },
  {
   "cell_type": "code",
   "execution_count": 66,
   "metadata": {},
   "outputs": [],
   "source": [
    "model = tf.keras.models.Sequential()\n",
    "# model.add(tf.keras.layers.Flatten())\n",
    "model.add(tf.keras.layers.Dense(input_dim, \n",
    "                                input_dim=input_dim, \n",
    "                                activation=tf.nn.relu))\n",
    "model.add(tf.keras.layers.Dropout(0.2))\n",
    "model.add(tf.keras.layers.Dense(input_dim,\n",
    "                                activation=tf.nn.relu))\n",
    "model.add(tf.keras.layers.Dropout(0.2))\n",
    "model.add(tf.keras.layers.Dense(nb_classes, activation=tf.nn.softmax))\n",
    "\n",
    "model.compile(loss='sparse_categorical_crossentropy',\n",
    "              optimizer='adam', \n",
    "              metrics=['accuracy'])"
   ]
  },
  {
   "cell_type": "code",
   "execution_count": 67,
   "metadata": {},
   "outputs": [
    {
     "name": "stdout",
     "output_type": "stream",
     "text": [
      "Epoch 1/10\n",
      " - 97s - loss: 0.1601 - acc: 0.9508\n",
      "Epoch 2/10\n",
      " - 99s - loss: 0.0900 - acc: 0.9737\n",
      "Epoch 3/10\n",
      " - 97s - loss: 0.0751 - acc: 0.9782\n",
      "Epoch 4/10\n",
      " - 99s - loss: 0.0655 - acc: 0.9810\n",
      "Epoch 5/10\n",
      " - 98s - loss: 0.0602 - acc: 0.9829\n",
      "Epoch 6/10\n",
      " - 99s - loss: 0.0538 - acc: 0.9843\n",
      "Epoch 7/10\n",
      " - 101s - loss: 0.0488 - acc: 0.9868\n",
      "Epoch 8/10\n",
      " - 98s - loss: 0.0507 - acc: 0.9868\n",
      "Epoch 9/10\n",
      " - 106s - loss: 0.0456 - acc: 0.9879\n",
      "Epoch 10/10\n",
      " - 100s - loss: 0.0511 - acc: 0.9871\n"
     ]
    },
    {
     "data": {
      "text/plain": [
       "<tensorflow.python.keras._impl.keras.callbacks.History at 0x7fe3c9ec7e10>"
      ]
     },
     "execution_count": 67,
     "metadata": {},
     "output_type": "execute_result"
    }
   ],
   "source": [
    "model.fit(x_scale, y, epochs=10, verbose=2)"
   ]
  },
  {
   "cell_type": "code",
   "execution_count": 68,
   "metadata": {},
   "outputs": [
    {
     "name": "stdout",
     "output_type": "stream",
     "text": [
      "10000/10000 [==============================]10000/10000 [==============================] - 3s 323us/step\n",
      "\n"
     ]
    },
    {
     "data": {
      "text/plain": [
       "[0.0613382150465899, 0.98509999999999998]"
      ]
     },
     "execution_count": 68,
     "metadata": {},
     "output_type": "execute_result"
    }
   ],
   "source": [
    "model.evaluate(xtest_scale, ytest)"
   ]
  },
  {
   "cell_type": "markdown",
   "metadata": {},
   "source": [
    "The accuracy of this model is almost 99 percent."
   ]
  },
  {
   "cell_type": "markdown",
   "metadata": {},
   "source": [
    "## Discussion\n",
    "Although the percent accuracy of the model does not show any striking difference, we cannot conclude that \n",
    "adding more nodes or more layers and both improves accuracy to solve this classification problem."
   ]
  },
  {
   "cell_type": "code",
   "execution_count": null,
   "metadata": {},
   "outputs": [],
   "source": []
  }
 ],
 "metadata": {
  "kernelspec": {
   "display_name": "Python 3",
   "language": "python",
   "name": "python3"
  },
  "language_info": {
   "codemirror_mode": {
    "name": "ipython",
    "version": 3
   },
   "file_extension": ".py",
   "mimetype": "text/x-python",
   "name": "python",
   "nbconvert_exporter": "python",
   "pygments_lexer": "ipython3",
   "version": "3.6.6"
  },
  "toc": {
   "base_numbering": 1,
   "nav_menu": {},
   "number_sections": true,
   "sideBar": true,
   "skip_h1_title": false,
   "title_cell": "Table of Contents",
   "title_sidebar": "Contents",
   "toc_cell": true,
   "toc_position": {},
   "toc_section_display": true,
   "toc_window_display": true
  }
 },
 "nbformat": 4,
 "nbformat_minor": 2
}

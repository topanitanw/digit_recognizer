{
 "cells": [
  {
   "cell_type": "markdown",
   "metadata": {
    "toc": true
   },
   "source": [
    "<h1>Table of Contents<span class=\"tocSkip\"></span></h1>\n",
    "<div class=\"toc\"><ul class=\"toc-item\"><li><span><a href=\"#Deep-Learning-with-Raw-Pixel\" data-toc-modified-id=\"Deep-Learning-with-Raw-Pixel-1\"><span class=\"toc-item-num\">1&nbsp;&nbsp;</span>Deep Learning with Raw Pixel</a></span><ul class=\"toc-item\"><li><span><a href=\"#A-Simple-Network\" data-toc-modified-id=\"A-Simple-Network-1.1\"><span class=\"toc-item-num\">1.1&nbsp;&nbsp;</span>A Simple Network</a></span></li><li><span><a href=\"#A-More-Complex-Network\" data-toc-modified-id=\"A-More-Complex-Network-1.2\"><span class=\"toc-item-num\">1.2&nbsp;&nbsp;</span>A More Complex Network</a></span><ul class=\"toc-item\"><li><span><a href=\"#Adding-More-Nodes\" data-toc-modified-id=\"Adding-More-Nodes-1.2.1\"><span class=\"toc-item-num\">1.2.1&nbsp;&nbsp;</span>Adding More Nodes</a></span></li><li><span><a href=\"#Adding-More-Layers\" data-toc-modified-id=\"Adding-More-Layers-1.2.2\"><span class=\"toc-item-num\">1.2.2&nbsp;&nbsp;</span>Adding More Layers</a></span></li><li><span><a href=\"#Adding-More-Nodes-and-More-Layers-to-the-Network\" data-toc-modified-id=\"Adding-More-Nodes-and-More-Layers-to-the-Network-1.2.3\"><span class=\"toc-item-num\">1.2.3&nbsp;&nbsp;</span>Adding More Nodes and More Layers to the Network</a></span></li></ul></li><li><span><a href=\"#Discussion\" data-toc-modified-id=\"Discussion-1.3\"><span class=\"toc-item-num\">1.3&nbsp;&nbsp;</span>Discussion</a></span></li></ul></li></ul></div>"
   ]
  },
  {
   "cell_type": "markdown",
   "metadata": {},
   "source": [
    "# Deep Learning with Raw Pixel\n",
    "This chapter contains the implementation and explaination of the neural network for the digit hand writing recognition. \n",
    "\n",
    "## A Simple Network \n",
    "First, we begin with import the libraries as well as training and testing data. "
   ]
  },
  {
   "cell_type": "code",
   "execution_count": 1,
   "metadata": {},
   "outputs": [],
   "source": [
    "import tensorflow as tf"
   ]
  },
  {
   "cell_type": "code",
   "execution_count": 2,
   "metadata": {},
   "outputs": [],
   "source": [
    "import pandas as pd\n",
    "from autograd import numpy as np"
   ]
  },
  {
   "cell_type": "code",
   "execution_count": 3,
   "metadata": {},
   "outputs": [],
   "source": [
    "df_train = pd.read_csv(\"./traindata.csv\", dtype=np.uint8)"
   ]
  },
  {
   "cell_type": "code",
   "execution_count": 4,
   "metadata": {},
   "outputs": [
    {
     "data": {
      "text/html": [
       "<div>\n",
       "<style scoped>\n",
       "    .dataframe tbody tr th:only-of-type {\n",
       "        vertical-align: middle;\n",
       "    }\n",
       "\n",
       "    .dataframe tbody tr th {\n",
       "        vertical-align: top;\n",
       "    }\n",
       "\n",
       "    .dataframe thead th {\n",
       "        text-align: right;\n",
       "    }\n",
       "</style>\n",
       "<table border=\"1\" class=\"dataframe\">\n",
       "  <thead>\n",
       "    <tr style=\"text-align: right;\">\n",
       "      <th></th>\n",
       "      <th>id</th>\n",
       "      <th>0</th>\n",
       "      <th>1</th>\n",
       "      <th>2</th>\n",
       "      <th>3</th>\n",
       "      <th>4</th>\n",
       "      <th>5</th>\n",
       "      <th>6</th>\n",
       "      <th>7</th>\n",
       "      <th>8</th>\n",
       "      <th>...</th>\n",
       "      <th>775</th>\n",
       "      <th>776</th>\n",
       "      <th>777</th>\n",
       "      <th>778</th>\n",
       "      <th>779</th>\n",
       "      <th>780</th>\n",
       "      <th>781</th>\n",
       "      <th>782</th>\n",
       "      <th>783</th>\n",
       "      <th>label</th>\n",
       "    </tr>\n",
       "  </thead>\n",
       "  <tbody>\n",
       "    <tr>\n",
       "      <th>0</th>\n",
       "      <td>0</td>\n",
       "      <td>0</td>\n",
       "      <td>0</td>\n",
       "      <td>0</td>\n",
       "      <td>0</td>\n",
       "      <td>0</td>\n",
       "      <td>0</td>\n",
       "      <td>0</td>\n",
       "      <td>0</td>\n",
       "      <td>0</td>\n",
       "      <td>...</td>\n",
       "      <td>0</td>\n",
       "      <td>0</td>\n",
       "      <td>0</td>\n",
       "      <td>0</td>\n",
       "      <td>0</td>\n",
       "      <td>0</td>\n",
       "      <td>0</td>\n",
       "      <td>0</td>\n",
       "      <td>0</td>\n",
       "      <td>5</td>\n",
       "    </tr>\n",
       "    <tr>\n",
       "      <th>1</th>\n",
       "      <td>1</td>\n",
       "      <td>0</td>\n",
       "      <td>0</td>\n",
       "      <td>0</td>\n",
       "      <td>0</td>\n",
       "      <td>0</td>\n",
       "      <td>0</td>\n",
       "      <td>0</td>\n",
       "      <td>0</td>\n",
       "      <td>0</td>\n",
       "      <td>...</td>\n",
       "      <td>0</td>\n",
       "      <td>0</td>\n",
       "      <td>0</td>\n",
       "      <td>0</td>\n",
       "      <td>0</td>\n",
       "      <td>0</td>\n",
       "      <td>0</td>\n",
       "      <td>0</td>\n",
       "      <td>0</td>\n",
       "      <td>0</td>\n",
       "    </tr>\n",
       "    <tr>\n",
       "      <th>2</th>\n",
       "      <td>2</td>\n",
       "      <td>0</td>\n",
       "      <td>0</td>\n",
       "      <td>0</td>\n",
       "      <td>0</td>\n",
       "      <td>0</td>\n",
       "      <td>0</td>\n",
       "      <td>0</td>\n",
       "      <td>0</td>\n",
       "      <td>0</td>\n",
       "      <td>...</td>\n",
       "      <td>0</td>\n",
       "      <td>0</td>\n",
       "      <td>0</td>\n",
       "      <td>0</td>\n",
       "      <td>0</td>\n",
       "      <td>0</td>\n",
       "      <td>0</td>\n",
       "      <td>0</td>\n",
       "      <td>0</td>\n",
       "      <td>4</td>\n",
       "    </tr>\n",
       "  </tbody>\n",
       "</table>\n",
       "<p>3 rows × 786 columns</p>\n",
       "</div>"
      ],
      "text/plain": [
       "   id  0  1  2  3  4  5  6  7  8  ...    775  776  777  778  779  780  781  \\\n",
       "0   0  0  0  0  0  0  0  0  0  0  ...      0    0    0    0    0    0    0   \n",
       "1   1  0  0  0  0  0  0  0  0  0  ...      0    0    0    0    0    0    0   \n",
       "2   2  0  0  0  0  0  0  0  0  0  ...      0    0    0    0    0    0    0   \n",
       "\n",
       "   782  783  label  \n",
       "0    0    0      5  \n",
       "1    0    0      0  \n",
       "2    0    0      4  \n",
       "\n",
       "[3 rows x 786 columns]"
      ]
     },
     "execution_count": 4,
     "metadata": {},
     "output_type": "execute_result"
    }
   ],
   "source": [
    "df_train.head(3)"
   ]
  },
  {
   "cell_type": "code",
   "execution_count": 5,
   "metadata": {},
   "outputs": [
    {
     "data": {
      "text/plain": [
       "(60000, 786)"
      ]
     },
     "execution_count": 5,
     "metadata": {},
     "output_type": "execute_result"
    }
   ],
   "source": [
    "df_train.shape"
   ]
  },
  {
   "cell_type": "code",
   "execution_count": 6,
   "metadata": {},
   "outputs": [
    {
     "name": "stdout",
     "output_type": "stream",
     "text": [
      "x_original shape:  (784, 60000)\n"
     ]
    },
    {
     "name": "stderr",
     "output_type": "stream",
     "text": [
      "/home/panitanw/anaconda3/lib/python3.6/site-packages/ipykernel_launcher.py:2: FutureWarning: Method .as_matrix will be removed in a future version. Use .values instead.\n",
      "  \n"
     ]
    }
   ],
   "source": [
    "df_imgs = df_train.drop(['label', 'id'], axis=1)\n",
    "x_original = df_imgs.as_matrix().T\n",
    "\n",
    "print(\"x_original shape: \", x_original.shape)"
   ]
  },
  {
   "cell_type": "code",
   "execution_count": 7,
   "metadata": {},
   "outputs": [
    {
     "name": "stdout",
     "output_type": "stream",
     "text": [
      "y_original shape:  (60000,)\n"
     ]
    },
    {
     "name": "stderr",
     "output_type": "stream",
     "text": [
      "/home/panitanw/anaconda3/lib/python3.6/site-packages/ipykernel_launcher.py:1: FutureWarning: Method .as_matrix will be removed in a future version. Use .values instead.\n",
      "  \"\"\"Entry point for launching an IPython kernel.\n"
     ]
    }
   ],
   "source": [
    "y_original = df_train['label'].as_matrix()\n",
    "\n",
    "print(\"y_original shape: \", y_original.shape)"
   ]
  },
  {
   "cell_type": "code",
   "execution_count": 8,
   "metadata": {},
   "outputs": [],
   "source": [
    "num_sample = 5000\n",
    "inds = np.random.permutation(y_original.shape[0])[:num_sample]\n",
    "x_sample = x_original[:,inds].T\n",
    "y_sample = y_original[inds]"
   ]
  },
  {
   "cell_type": "code",
   "execution_count": 9,
   "metadata": {},
   "outputs": [
    {
     "name": "stdout",
     "output_type": "stream",
     "text": [
      "x_sample shape:  (5000, 784)\n",
      "y_sample shape:  (5000,)\n"
     ]
    }
   ],
   "source": [
    "print(\"x_sample shape: \", x_sample.shape)\n",
    "print(\"y_sample shape: \", y_sample.shape)"
   ]
  },
  {
   "cell_type": "code",
   "execution_count": 10,
   "metadata": {},
   "outputs": [
    {
     "name": "stdout",
     "output_type": "stream",
     "text": [
      "x shape:  (60000, 784)\n",
      "y shape:  (60000,)\n"
     ]
    }
   ],
   "source": [
    "x = x_original.T\n",
    "y = y_original\n",
    "\n",
    "print(\"x shape: \", x.shape)\n",
    "print(\"y shape: \", y.shape)"
   ]
  },
  {
   "cell_type": "markdown",
   "metadata": {},
   "source": [
    "We scale the input of the algorithm by dividing the input with its maximum value. "
   ]
  },
  {
   "cell_type": "code",
   "execution_count": 11,
   "metadata": {},
   "outputs": [],
   "source": [
    "xmax = np.max(x)\n",
    "x_scale = x/xmax"
   ]
  },
  {
   "cell_type": "code",
   "execution_count": 12,
   "metadata": {},
   "outputs": [
    {
     "name": "stdout",
     "output_type": "stream",
     "text": [
      "input_dim:  784\n",
      "nb_classes:  10\n"
     ]
    }
   ],
   "source": [
    "input_dim = x_scale.shape[1]\n",
    "nb_classes = 10\n",
    "\n",
    "print(\"input_dim: \", input_dim)\n",
    "print(\"nb_classes: \", nb_classes)"
   ]
  },
  {
   "cell_type": "markdown",
   "metadata": {},
   "source": [
    "We start with a simple network containing the 3 layers: 784 input nodes, a 512-node hidden layer, and the 10-node output. We also add the 0.2 dropout to avoid overfitting. "
   ]
  },
  {
   "cell_type": "code",
   "execution_count": 13,
   "metadata": {},
   "outputs": [],
   "source": [
    "model = tf.keras.models.Sequential()\n",
    "# model.add(tf.keras.layers.Flatten())\n",
    "model.add(tf.keras.layers.Dense(512, \n",
    "                                input_dim=input_dim, \n",
    "                                activation=tf.nn.relu))\n",
    "model.add(tf.keras.layers.Dropout(0.2))\n",
    "model.add(tf.keras.layers.Dense(10, activation=tf.nn.softmax))"
   ]
  },
  {
   "cell_type": "code",
   "execution_count": 14,
   "metadata": {},
   "outputs": [
    {
     "name": "stdout",
     "output_type": "stream",
     "text": [
      "WARNING:tensorflow:From /home/panitanw/anaconda3/lib/python3.6/site-packages/tensorflow/python/keras/_impl/keras/backend.py:1557: calling reduce_mean (from tensorflow.python.ops.math_ops) with keep_dims is deprecated and will be removed in a future version.\n",
      "Instructions for updating:\n",
      "keep_dims is deprecated, use keepdims instead\n",
      "WARNING:tensorflow:From /home/panitanw/anaconda3/lib/python3.6/site-packages/tensorflow/python/keras/_impl/keras/backend.py:1422: calling reduce_max (from tensorflow.python.ops.math_ops) with keep_dims is deprecated and will be removed in a future version.\n",
      "Instructions for updating:\n",
      "keep_dims is deprecated, use keepdims instead\n"
     ]
    }
   ],
   "source": [
    "model.compile(loss='sparse_categorical_crossentropy',\n",
    "              optimizer='adam', \n",
    "              metrics=['accuracy'])"
   ]
  },
  {
   "cell_type": "markdown",
   "metadata": {},
   "source": [
    "Train the network with the input and its label for 5 times. "
   ]
  },
  {
   "cell_type": "code",
   "execution_count": 15,
   "metadata": {},
   "outputs": [
    {
     "name": "stdout",
     "output_type": "stream",
     "text": [
      "Epoch 1/10\n",
      " - 21s - loss: 0.2191 - acc: 0.9351\n",
      "Epoch 2/10\n",
      " - 19s - loss: 0.0970 - acc: 0.9702\n",
      "Epoch 3/10\n",
      " - 20s - loss: 0.0703 - acc: 0.9785\n",
      "Epoch 4/10\n",
      " - 19s - loss: 0.0530 - acc: 0.9837\n",
      "Epoch 5/10\n",
      " - 19s - loss: 0.0423 - acc: 0.9861\n",
      "Epoch 6/10\n",
      " - 20s - loss: 0.0373 - acc: 0.9876\n",
      "Epoch 7/10\n",
      " - 19s - loss: 0.0303 - acc: 0.9903\n",
      "Epoch 8/10\n",
      " - 20s - loss: 0.0287 - acc: 0.9905\n",
      "Epoch 9/10\n",
      " - 21s - loss: 0.0241 - acc: 0.9920\n",
      "Epoch 10/10\n",
      " - 21s - loss: 0.0227 - acc: 0.9923\n"
     ]
    },
    {
     "data": {
      "text/plain": [
       "<tensorflow.python.keras._impl.keras.callbacks.History at 0x7f728dd17ef0>"
      ]
     },
     "execution_count": 15,
     "metadata": {},
     "output_type": "execute_result"
    }
   ],
   "source": [
    "model.fit(x_scale, y, epochs=10, verbose=2)"
   ]
  },
  {
   "cell_type": "markdown",
   "metadata": {},
   "source": [
    "Read the test data, and process it. Next, we will evaluate our model with the test data."
   ]
  },
  {
   "cell_type": "code",
   "execution_count": 16,
   "metadata": {},
   "outputs": [
    {
     "data": {
      "text/html": [
       "<div>\n",
       "<style scoped>\n",
       "    .dataframe tbody tr th:only-of-type {\n",
       "        vertical-align: middle;\n",
       "    }\n",
       "\n",
       "    .dataframe tbody tr th {\n",
       "        vertical-align: top;\n",
       "    }\n",
       "\n",
       "    .dataframe thead th {\n",
       "        text-align: right;\n",
       "    }\n",
       "</style>\n",
       "<table border=\"1\" class=\"dataframe\">\n",
       "  <thead>\n",
       "    <tr style=\"text-align: right;\">\n",
       "      <th></th>\n",
       "      <th>id</th>\n",
       "      <th>0</th>\n",
       "      <th>1</th>\n",
       "      <th>2</th>\n",
       "      <th>3</th>\n",
       "      <th>4</th>\n",
       "      <th>5</th>\n",
       "      <th>6</th>\n",
       "      <th>7</th>\n",
       "      <th>8</th>\n",
       "      <th>...</th>\n",
       "      <th>775</th>\n",
       "      <th>776</th>\n",
       "      <th>777</th>\n",
       "      <th>778</th>\n",
       "      <th>779</th>\n",
       "      <th>780</th>\n",
       "      <th>781</th>\n",
       "      <th>782</th>\n",
       "      <th>783</th>\n",
       "      <th>label</th>\n",
       "    </tr>\n",
       "  </thead>\n",
       "  <tbody>\n",
       "    <tr>\n",
       "      <th>0</th>\n",
       "      <td>0</td>\n",
       "      <td>0</td>\n",
       "      <td>0</td>\n",
       "      <td>0</td>\n",
       "      <td>0</td>\n",
       "      <td>0</td>\n",
       "      <td>0</td>\n",
       "      <td>0</td>\n",
       "      <td>0</td>\n",
       "      <td>0</td>\n",
       "      <td>...</td>\n",
       "      <td>0</td>\n",
       "      <td>0</td>\n",
       "      <td>0</td>\n",
       "      <td>0</td>\n",
       "      <td>0</td>\n",
       "      <td>0</td>\n",
       "      <td>0</td>\n",
       "      <td>0</td>\n",
       "      <td>0</td>\n",
       "      <td>7</td>\n",
       "    </tr>\n",
       "    <tr>\n",
       "      <th>1</th>\n",
       "      <td>1</td>\n",
       "      <td>0</td>\n",
       "      <td>0</td>\n",
       "      <td>0</td>\n",
       "      <td>0</td>\n",
       "      <td>0</td>\n",
       "      <td>0</td>\n",
       "      <td>0</td>\n",
       "      <td>0</td>\n",
       "      <td>0</td>\n",
       "      <td>...</td>\n",
       "      <td>0</td>\n",
       "      <td>0</td>\n",
       "      <td>0</td>\n",
       "      <td>0</td>\n",
       "      <td>0</td>\n",
       "      <td>0</td>\n",
       "      <td>0</td>\n",
       "      <td>0</td>\n",
       "      <td>0</td>\n",
       "      <td>2</td>\n",
       "    </tr>\n",
       "    <tr>\n",
       "      <th>2</th>\n",
       "      <td>2</td>\n",
       "      <td>0</td>\n",
       "      <td>0</td>\n",
       "      <td>0</td>\n",
       "      <td>0</td>\n",
       "      <td>0</td>\n",
       "      <td>0</td>\n",
       "      <td>0</td>\n",
       "      <td>0</td>\n",
       "      <td>0</td>\n",
       "      <td>...</td>\n",
       "      <td>0</td>\n",
       "      <td>0</td>\n",
       "      <td>0</td>\n",
       "      <td>0</td>\n",
       "      <td>0</td>\n",
       "      <td>0</td>\n",
       "      <td>0</td>\n",
       "      <td>0</td>\n",
       "      <td>0</td>\n",
       "      <td>1</td>\n",
       "    </tr>\n",
       "  </tbody>\n",
       "</table>\n",
       "<p>3 rows × 786 columns</p>\n",
       "</div>"
      ],
      "text/plain": [
       "   id  0  1  2  3  4  5  6  7  8  ...    775  776  777  778  779  780  781  \\\n",
       "0   0  0  0  0  0  0  0  0  0  0  ...      0    0    0    0    0    0    0   \n",
       "1   1  0  0  0  0  0  0  0  0  0  ...      0    0    0    0    0    0    0   \n",
       "2   2  0  0  0  0  0  0  0  0  0  ...      0    0    0    0    0    0    0   \n",
       "\n",
       "   782  783  label  \n",
       "0    0    0      7  \n",
       "1    0    0      2  \n",
       "2    0    0      1  \n",
       "\n",
       "[3 rows x 786 columns]"
      ]
     },
     "execution_count": 16,
     "metadata": {},
     "output_type": "execute_result"
    }
   ],
   "source": [
    "df_testdata = pd.read_csv(\"./testdata.csv\", dtype=np.uint8)\n",
    "\n",
    "df_testdata.head(3)"
   ]
  },
  {
   "cell_type": "code",
   "execution_count": 17,
   "metadata": {},
   "outputs": [
    {
     "name": "stdout",
     "output_type": "stream",
     "text": [
      "xtest shape: (10000, 784)\n"
     ]
    },
    {
     "name": "stderr",
     "output_type": "stream",
     "text": [
      "/home/panitanw/anaconda3/lib/python3.6/site-packages/ipykernel_launcher.py:2: FutureWarning: Method .as_matrix will be removed in a future version. Use .values instead.\n",
      "  \n"
     ]
    }
   ],
   "source": [
    "df_testimgs = df_testdata.drop(['label', 'id'], axis=1)\n",
    "xtest = df_testimgs.as_matrix()\n",
    "\n",
    "print(\"xtest shape:\", xtest.shape)"
   ]
  },
  {
   "cell_type": "code",
   "execution_count": 18,
   "metadata": {},
   "outputs": [
    {
     "name": "stdout",
     "output_type": "stream",
     "text": [
      "ytest shape: (10000,)\n"
     ]
    },
    {
     "name": "stderr",
     "output_type": "stream",
     "text": [
      "/home/panitanw/anaconda3/lib/python3.6/site-packages/ipykernel_launcher.py:1: FutureWarning: Method .as_matrix will be removed in a future version. Use .values instead.\n",
      "  \"\"\"Entry point for launching an IPython kernel.\n"
     ]
    }
   ],
   "source": [
    "ytest = df_testdata['label'].as_matrix()\n",
    "# ytest = ytest.reshape((10000, 1)).T\n",
    "print(\"ytest shape:\", ytest.shape)"
   ]
  },
  {
   "cell_type": "code",
   "execution_count": 19,
   "metadata": {},
   "outputs": [],
   "source": [
    "xtest_scale = xtest/xmax"
   ]
  },
  {
   "cell_type": "code",
   "execution_count": 20,
   "metadata": {},
   "outputs": [
    {
     "name": "stdout",
     "output_type": "stream",
     "text": [
      "10000/10000 [==============================]10000/10000 [==============================] - 1s 85us/step\n",
      "\n"
     ]
    },
    {
     "data": {
      "text/plain": [
       "[0.076664467417354901, 0.98129999999999995]"
      ]
     },
     "execution_count": 20,
     "metadata": {},
     "output_type": "execute_result"
    }
   ],
   "source": [
    "model.evaluate(xtest_scale, ytest)"
   ]
  },
  {
   "cell_type": "markdown",
   "metadata": {},
   "source": [
    "As you can see from the output of the evalute method, the accuracy of the simple model is 98 percent. In this case, it is good enough to adopt this model as a classifier. \n",
    "\n",
    "## A More Complex Network\n",
    "Although the accuracy of the model is pretty good, we still would like to extend this model if we can achieve the perfect accuracy. The extension of this model is to add more nodes or more layers in the hidden layer to the network until it almost overfit and then we start to prune it or use different technique to mitigate the overfitting problem.\n",
    "\n",
    "\n",
    "### Adding More Nodes\n",
    "In this section, we try to increase more nodes in the hidden layer."
   ]
  },
  {
   "cell_type": "code",
   "execution_count": 23,
   "metadata": {
    "code_folding": []
   },
   "outputs": [],
   "source": [
    "model = tf.keras.models.Sequential()\n",
    "# model.add(tf.keras.layers.Flatten())\n",
    "model.add(tf.keras.layers.Dense(input_dim, \n",
    "                                input_dim=input_dim, \n",
    "                                activation=tf.nn.relu))\n",
    "model.add(tf.keras.layers.Dropout(0.2))\n",
    "model.add(tf.keras.layers.Dense(10, activation=tf.nn.softmax))\n",
    "\n",
    "model.compile(loss='sparse_categorical_crossentropy',\n",
    "              optimizer='adam', \n",
    "              metrics=['accuracy'])"
   ]
  },
  {
   "cell_type": "markdown",
   "metadata": {},
   "source": [
    "Once there are more nodes in the network, it also requires more times (epochs) to train so as to enhance the accuracy of the model. The number of epochs is choosen by trial and error."
   ]
  },
  {
   "cell_type": "code",
   "execution_count": 24,
   "metadata": {},
   "outputs": [
    {
     "name": "stdout",
     "output_type": "stream",
     "text": [
      "Epoch 1/10\n",
      " - 31s - loss: 0.2063 - acc: 0.9394\n",
      "Epoch 2/10\n",
      " - 29s - loss: 0.0904 - acc: 0.9718\n",
      "Epoch 3/10\n",
      " - 32s - loss: 0.0652 - acc: 0.9799\n",
      "Epoch 4/10\n",
      " - 29s - loss: 0.0500 - acc: 0.9841\n",
      "Epoch 5/10\n",
      " - 29s - loss: 0.0397 - acc: 0.9875\n",
      "Epoch 6/10\n",
      " - 32s - loss: 0.0339 - acc: 0.9888\n",
      "Epoch 7/10\n",
      " - 28s - loss: 0.0294 - acc: 0.9898\n",
      "Epoch 8/10\n",
      " - 32s - loss: 0.0250 - acc: 0.9920\n",
      "Epoch 9/10\n",
      " - 30s - loss: 0.0248 - acc: 0.9918\n",
      "Epoch 10/10\n",
      " - 28s - loss: 0.0209 - acc: 0.9935\n"
     ]
    },
    {
     "data": {
      "text/plain": [
       "<tensorflow.python.keras._impl.keras.callbacks.History at 0x7f7268043160>"
      ]
     },
     "execution_count": 24,
     "metadata": {},
     "output_type": "execute_result"
    }
   ],
   "source": [
    "model.fit(x_scale, y, epochs=10, verbose=2)"
   ]
  },
  {
   "cell_type": "code",
   "execution_count": 25,
   "metadata": {},
   "outputs": [
    {
     "name": "stdout",
     "output_type": "stream",
     "text": [
      "10000/10000 [==============================]10000/10000 [==============================] - 1s 134us/step\n",
      "\n"
     ]
    },
    {
     "data": {
      "text/plain": [
       "[0.072015329911428852, 0.98340000000000005]"
      ]
     },
     "execution_count": 25,
     "metadata": {},
     "output_type": "execute_result"
    }
   ],
   "source": [
    "model.evaluate(xtest_scale, ytest)"
   ]
  },
  {
   "cell_type": "markdown",
   "metadata": {},
   "source": [
    "The accuracy of the classfication is increased insignificantly by enhancing the number of nodes in the network. \n",
    "\n",
    "### Adding More Layers\n",
    "In this section, we will try to add more layers to the network in order to improve accuracy. The following example shows a network with one more hidden layer."
   ]
  },
  {
   "cell_type": "code",
   "execution_count": 26,
   "metadata": {
    "code_folding": []
   },
   "outputs": [],
   "source": [
    "model = tf.keras.models.Sequential()\n",
    "# model.add(tf.keras.layers.Flatten())\n",
    "model.add(tf.keras.layers.Dense(512, \n",
    "                                input_dim=input_dim, \n",
    "                                activation=tf.nn.relu))\n",
    "model.add(tf.keras.layers.Dropout(0.2))\n",
    "model.add(tf.keras.layers.Dense(512,\n",
    "                                activation=tf.nn.relu))\n",
    "model.add(tf.keras.layers.Dropout(0.2))\n",
    "model.add(tf.keras.layers.Dense(nb_classes, activation=tf.nn.softmax))\n",
    "\n",
    "model.compile(loss='sparse_categorical_crossentropy',\n",
    "              optimizer='adam', \n",
    "              metrics=['accuracy'])"
   ]
  },
  {
   "cell_type": "code",
   "execution_count": 27,
   "metadata": {},
   "outputs": [
    {
     "name": "stdout",
     "output_type": "stream",
     "text": [
      "Epoch 1/10\n",
      " - 32s - loss: 0.2127 - acc: 0.9352\n",
      "Epoch 2/10\n",
      " - 37s - loss: 0.1057 - acc: 0.9675\n",
      "Epoch 3/10\n",
      " - 35s - loss: 0.0836 - acc: 0.9744\n",
      "Epoch 4/10\n",
      " - 34s - loss: 0.0683 - acc: 0.9785\n",
      "Epoch 5/10\n",
      " - 35s - loss: 0.0581 - acc: 0.9812\n",
      "Epoch 6/10\n",
      " - 34s - loss: 0.0518 - acc: 0.9842\n",
      "Epoch 7/10\n",
      " - 35s - loss: 0.0462 - acc: 0.9853\n",
      "Epoch 8/10\n",
      " - 36s - loss: 0.0434 - acc: 0.9870\n",
      "Epoch 9/10\n",
      " - 36s - loss: 0.0394 - acc: 0.9875\n",
      "Epoch 10/10\n",
      " - 35s - loss: 0.0358 - acc: 0.9886\n"
     ]
    },
    {
     "data": {
      "text/plain": [
       "<tensorflow.python.keras._impl.keras.callbacks.History at 0x7f71a75e0470>"
      ]
     },
     "execution_count": 27,
     "metadata": {},
     "output_type": "execute_result"
    }
   ],
   "source": [
    "model.fit(x_scale, y, epochs=10, verbose=2)"
   ]
  },
  {
   "cell_type": "code",
   "execution_count": 28,
   "metadata": {},
   "outputs": [
    {
     "name": "stdout",
     "output_type": "stream",
     "text": [
      "10000/10000 [==============================]10000/10000 [==============================] - 1s 141us/step\n",
      "\n"
     ]
    },
    {
     "data": {
      "text/plain": [
       "[0.084818751688119295, 0.98260000000000003]"
      ]
     },
     "execution_count": 28,
     "metadata": {},
     "output_type": "execute_result"
    }
   ],
   "source": [
    "model.evaluate(xtest_scale, ytest)"
   ]
  },
  {
   "cell_type": "markdown",
   "metadata": {},
   "source": [
    "Even though we add one more layer to the network, it does not improve the accuracy significantly. "
   ]
  },
  {
   "cell_type": "markdown",
   "metadata": {},
   "source": [
    "### Adding More Nodes and More Layers to the Network \n",
    "In this section, we add more layers and more nodes to the network."
   ]
  },
  {
   "cell_type": "code",
   "execution_count": 29,
   "metadata": {},
   "outputs": [],
   "source": [
    "model = tf.keras.models.Sequential()\n",
    "# model.add(tf.keras.layers.Flatten())\n",
    "model.add(tf.keras.layers.Dense(input_dim, \n",
    "                                input_dim=input_dim, \n",
    "                                activation=tf.nn.relu))\n",
    "model.add(tf.keras.layers.Dropout(0.2))\n",
    "model.add(tf.keras.layers.Dense(input_dim,\n",
    "                                activation=tf.nn.relu))\n",
    "model.add(tf.keras.layers.Dropout(0.2))\n",
    "model.add(tf.keras.layers.Dense(nb_classes, activation=tf.nn.softmax))\n",
    "\n",
    "model.compile(loss='sparse_categorical_crossentropy',\n",
    "              optimizer='adam', \n",
    "              metrics=['accuracy'])"
   ]
  },
  {
   "cell_type": "code",
   "execution_count": 30,
   "metadata": {},
   "outputs": [
    {
     "name": "stdout",
     "output_type": "stream",
     "text": [
      "Epoch 1/10\n",
      " - 53s - loss: 0.2055 - acc: 0.9377\n",
      "Epoch 2/10\n",
      " - 54s - loss: 0.1003 - acc: 0.9694\n",
      "Epoch 3/10\n",
      " - 53s - loss: 0.0823 - acc: 0.9745\n",
      "Epoch 4/10\n",
      " - 62s - loss: 0.0686 - acc: 0.9791\n",
      "Epoch 5/10\n",
      " - 60s - loss: 0.0614 - acc: 0.9821\n",
      "Epoch 6/10\n",
      " - 56s - loss: 0.0514 - acc: 0.9842\n",
      "Epoch 7/10\n",
      " - 59s - loss: 0.0495 - acc: 0.9847\n",
      "Epoch 8/10\n",
      " - 55s - loss: 0.0446 - acc: 0.9868\n",
      "Epoch 9/10\n",
      " - 54s - loss: 0.0427 - acc: 0.9875\n",
      "Epoch 10/10\n",
      " - 55s - loss: 0.0421 - acc: 0.9880\n"
     ]
    },
    {
     "data": {
      "text/plain": [
       "<tensorflow.python.keras._impl.keras.callbacks.History at 0x7f71a4ff5f28>"
      ]
     },
     "execution_count": 30,
     "metadata": {},
     "output_type": "execute_result"
    }
   ],
   "source": [
    "model.fit(x_scale, y, epochs=10, verbose=2)"
   ]
  },
  {
   "cell_type": "code",
   "execution_count": 31,
   "metadata": {},
   "outputs": [
    {
     "name": "stdout",
     "output_type": "stream",
     "text": [
      "10000/10000 [==============================]10000/10000 [==============================] - 2s 196us/step\n",
      "\n"
     ]
    },
    {
     "data": {
      "text/plain": [
       "[0.082450668865201443, 0.97860000000000003]"
      ]
     },
     "execution_count": 31,
     "metadata": {},
     "output_type": "execute_result"
    }
   ],
   "source": [
    "model.evaluate(xtest_scale, ytest)"
   ]
  },
  {
   "cell_type": "markdown",
   "metadata": {},
   "source": [
    "Adding more layers does not improve accuracy as we expected if we compare the accuracy with the simple model.\n",
    "\n",
    "## Discussion\n",
    "We have a simple model with one hidden layer, and more complex models by increasing the number of nodes in the hidden layer or adding a hidden layer. All three networks have the roughtly same accuracy (98%) as the simple network. This leads to questions that what is the proper structure of the network, the optimizer for the neuron network, and the loss function to opt for so as to achieve the optimal accuracy."
   ]
  },
  {
   "cell_type": "code",
   "execution_count": null,
   "metadata": {},
   "outputs": [],
   "source": []
  }
 ],
 "metadata": {
  "kernelspec": {
   "display_name": "Python 3",
   "language": "python",
   "name": "python3"
  },
  "language_info": {
   "codemirror_mode": {
    "name": "ipython",
    "version": 3
   },
   "file_extension": ".py",
   "mimetype": "text/x-python",
   "name": "python",
   "nbconvert_exporter": "python",
   "pygments_lexer": "ipython3",
   "version": "3.6.4"
  },
  "toc": {
   "base_numbering": 1,
   "nav_menu": {
    "height": "172px",
    "width": "338px"
   },
   "number_sections": true,
   "sideBar": true,
   "skip_h1_title": false,
   "title_cell": "Table of Contents",
   "title_sidebar": "Contents",
   "toc_cell": true,
   "toc_position": {
    "height": "calc(100% - 180px)",
    "left": "10px",
    "top": "150px",
    "width": "282px"
   },
   "toc_section_display": true,
   "toc_window_display": true
  }
 },
 "nbformat": 4,
 "nbformat_minor": 2
}

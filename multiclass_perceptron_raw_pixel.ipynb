{
 "cells": [
  {
   "cell_type": "markdown",
   "metadata": {
    "toc": true
   },
   "source": [
    "<h1>Table of Contents<span class=\"tocSkip\"></span></h1>\n",
    "<div class=\"toc\"><ul class=\"toc-item\"><li><span><a href=\"#Multiclass-Perceptron\" data-toc-modified-id=\"Multiclass-Perceptron-1\"><span class=\"toc-item-num\">1&nbsp;&nbsp;</span>Multiclass Perceptron</a></span><ul class=\"toc-item\"><li><span><a href=\"#Training-the-Model\" data-toc-modified-id=\"Training-the-Model-1.1\"><span class=\"toc-item-num\">1.1&nbsp;&nbsp;</span>Training the Model</a></span></li><li><span><a href=\"#Scaling-the-Input\" data-toc-modified-id=\"Scaling-the-Input-1.2\"><span class=\"toc-item-num\">1.2&nbsp;&nbsp;</span>Scaling the Input</a></span></li></ul></li></ul></div>"
   ]
  },
  {
   "cell_type": "markdown",
   "metadata": {},
   "source": [
    "# Multiclass Perceptron \n",
    "This chapter contains the multiclass perceptron implementation to classify the hand-written digits from MNIST database. \n",
    "\n",
    "We start with parsing the training and testing data to train and evaluate the model."
   ]
  },
  {
   "cell_type": "code",
   "execution_count": 1,
   "metadata": {},
   "outputs": [],
   "source": [
    "import pandas as pd\n",
    "import matplotlib.pyplot as plt\n",
    "from autograd import numpy as np\n",
    "from autograd import grad\n",
    "from autograd.misc.flatten import flatten_func"
   ]
  },
  {
   "cell_type": "code",
   "execution_count": 2,
   "metadata": {},
   "outputs": [],
   "source": [
    "# compute C linear combinations of input point, one per classifier \n",
    "def model(x,w):\n",
    "    a = w[0] + np.dot(x.T,w[1:]) \n",
    "    return a.T\n",
    "\n",
    "# multiclass perceptron\n",
    "lam = 10**-5 # our regularization paramter \n",
    "def multiclass_perceptron(w):\n",
    "    # pre-compute predictions on all points\n",
    "    all_evals = model(x,w)\n",
    "    \n",
    "    # compute maximum across data points\n",
    "    a = np.max(all_evals,axis = 0)\n",
    "    \n",
    "    # compute cost in compact form using numpy broadcasting\n",
    "    b = all_evals[y.astype(int).flatten(),np.arange(np.size(y))] \n",
    "    cost = np.sum(a - b)\n",
    "    \n",
    "    # add regularizer\n",
    "    cost = cost + lam*np.linalg.norm(w[1:,:],'fro')**2\n",
    "    \n",
    "    # return average\n",
    "    # print(\"a\", a, \"b\", b, \"cost\", cost)\n",
    "    return cost/float(np.size(y))\n",
    "\n",
    "# gradient descent function \n",
    "def gradient_descent(g,alpha,max_its,w):\n",
    "    # compute gradient module using autograd\n",
    "    gradient = grad(g)\n",
    "\n",
    "    # run the gradient descent loop\n",
    "    weight_history = [w] # weight history container\n",
    "    cost_history = [g(w)] # cost function history container\n",
    "    for k in range(max_its):\n",
    "        # evaluate the gradient\n",
    "        grad_eval = gradient(w)\n",
    "\n",
    "        # take gradient descent step\n",
    "        w = w - alpha*grad_eval\n",
    "        \n",
    "        # record weight and cost\n",
    "        weight_history.append(w)\n",
    "        cost_history.append(g(w))\n",
    "    return weight_history,cost_history\n",
    "\n",
    "def get_histories(fn, max_its, w, min_alpha=3, max_alpha=1, alpha_scale=1):\n",
    "    labels = []\n",
    "    cost_histories = []\n",
    "    weight_histories = []\n",
    "    for i in range(max_alpha, min_alpha+1):\n",
    "      alpha = 10**(-i) * alpha_scale\n",
    "      labels.append(r'$\\alpha=10^{-%s}$' % str(i))\n",
    "      weight_hist, cost_hist = gradient_descent(fn, alpha, max_its, w)\n",
    "      cost_histories.append(cost_hist)\n",
    "      weight_histories.append(weight_hist)\n",
    "    return cost_histories, weight_histories, labels\n",
    "\n",
    "# cost function history plotter\n",
    "def plot_cost_histories(cost_histories,labels): \n",
    "    # create figure\n",
    "    plt.figure() # 1, figsize=(10, 6))  \n",
    "    # loop over cost histories and plot each one\n",
    "    for j in range(len(cost_histories)): \n",
    "        history = cost_histories[j] \n",
    "        label = labels[j] \n",
    "        xnum = len(history)\n",
    "        x = list(range(xnum))\n",
    "        plt.plot(history, label = label)\n",
    "    plt.legend(loc='center left', bbox_to_anchor=(1, 0.5))\n",
    "    plt.show()\n",
    "    \n",
    "def number_misclassification(y, yfit): \n",
    "    miss_count = 0\n",
    "    miss_index = []\n",
    "    for i in range(np.size(y)):\n",
    "        if y[0][i] != yfit[i]: \n",
    "            miss_count += 1\n",
    "            miss_index.append(i)\n",
    "    return miss_count, miss_index\n",
    "\n",
    "def misclassification(miss_index, y, yfit):\n",
    "    for index in miss_index:\n",
    "        print(\"y\", y[0][index], \"yfit\", yfit[index])\n",
    "        \n",
    "def accuracy(miss_count, ysize): \n",
    "    return 1 - miss_count/float(ysize)"
   ]
  },
  {
   "cell_type": "code",
   "execution_count": 3,
   "metadata": {},
   "outputs": [],
   "source": [
    "df_train = pd.read_csv(\"./traindata.csv\", dtype=np.uint8)"
   ]
  },
  {
   "cell_type": "code",
   "execution_count": 4,
   "metadata": {},
   "outputs": [
    {
     "data": {
      "text/html": [
       "<div>\n",
       "<style scoped>\n",
       "    .dataframe tbody tr th:only-of-type {\n",
       "        vertical-align: middle;\n",
       "    }\n",
       "\n",
       "    .dataframe tbody tr th {\n",
       "        vertical-align: top;\n",
       "    }\n",
       "\n",
       "    .dataframe thead th {\n",
       "        text-align: right;\n",
       "    }\n",
       "</style>\n",
       "<table border=\"1\" class=\"dataframe\">\n",
       "  <thead>\n",
       "    <tr style=\"text-align: right;\">\n",
       "      <th></th>\n",
       "      <th>id</th>\n",
       "      <th>0</th>\n",
       "      <th>1</th>\n",
       "      <th>2</th>\n",
       "      <th>3</th>\n",
       "      <th>4</th>\n",
       "      <th>5</th>\n",
       "      <th>6</th>\n",
       "      <th>7</th>\n",
       "      <th>8</th>\n",
       "      <th>...</th>\n",
       "      <th>775</th>\n",
       "      <th>776</th>\n",
       "      <th>777</th>\n",
       "      <th>778</th>\n",
       "      <th>779</th>\n",
       "      <th>780</th>\n",
       "      <th>781</th>\n",
       "      <th>782</th>\n",
       "      <th>783</th>\n",
       "      <th>label</th>\n",
       "    </tr>\n",
       "  </thead>\n",
       "  <tbody>\n",
       "    <tr>\n",
       "      <th>0</th>\n",
       "      <td>0</td>\n",
       "      <td>0</td>\n",
       "      <td>0</td>\n",
       "      <td>0</td>\n",
       "      <td>0</td>\n",
       "      <td>0</td>\n",
       "      <td>0</td>\n",
       "      <td>0</td>\n",
       "      <td>0</td>\n",
       "      <td>0</td>\n",
       "      <td>...</td>\n",
       "      <td>0</td>\n",
       "      <td>0</td>\n",
       "      <td>0</td>\n",
       "      <td>0</td>\n",
       "      <td>0</td>\n",
       "      <td>0</td>\n",
       "      <td>0</td>\n",
       "      <td>0</td>\n",
       "      <td>0</td>\n",
       "      <td>5</td>\n",
       "    </tr>\n",
       "    <tr>\n",
       "      <th>1</th>\n",
       "      <td>1</td>\n",
       "      <td>0</td>\n",
       "      <td>0</td>\n",
       "      <td>0</td>\n",
       "      <td>0</td>\n",
       "      <td>0</td>\n",
       "      <td>0</td>\n",
       "      <td>0</td>\n",
       "      <td>0</td>\n",
       "      <td>0</td>\n",
       "      <td>...</td>\n",
       "      <td>0</td>\n",
       "      <td>0</td>\n",
       "      <td>0</td>\n",
       "      <td>0</td>\n",
       "      <td>0</td>\n",
       "      <td>0</td>\n",
       "      <td>0</td>\n",
       "      <td>0</td>\n",
       "      <td>0</td>\n",
       "      <td>0</td>\n",
       "    </tr>\n",
       "    <tr>\n",
       "      <th>2</th>\n",
       "      <td>2</td>\n",
       "      <td>0</td>\n",
       "      <td>0</td>\n",
       "      <td>0</td>\n",
       "      <td>0</td>\n",
       "      <td>0</td>\n",
       "      <td>0</td>\n",
       "      <td>0</td>\n",
       "      <td>0</td>\n",
       "      <td>0</td>\n",
       "      <td>...</td>\n",
       "      <td>0</td>\n",
       "      <td>0</td>\n",
       "      <td>0</td>\n",
       "      <td>0</td>\n",
       "      <td>0</td>\n",
       "      <td>0</td>\n",
       "      <td>0</td>\n",
       "      <td>0</td>\n",
       "      <td>0</td>\n",
       "      <td>4</td>\n",
       "    </tr>\n",
       "  </tbody>\n",
       "</table>\n",
       "<p>3 rows × 786 columns</p>\n",
       "</div>"
      ],
      "text/plain": [
       "   id  0  1  2  3  4  5  6  7  8  ...    775  776  777  778  779  780  781  \\\n",
       "0   0  0  0  0  0  0  0  0  0  0  ...      0    0    0    0    0    0    0   \n",
       "1   1  0  0  0  0  0  0  0  0  0  ...      0    0    0    0    0    0    0   \n",
       "2   2  0  0  0  0  0  0  0  0  0  ...      0    0    0    0    0    0    0   \n",
       "\n",
       "   782  783  label  \n",
       "0    0    0      5  \n",
       "1    0    0      0  \n",
       "2    0    0      4  \n",
       "\n",
       "[3 rows x 786 columns]"
      ]
     },
     "execution_count": 4,
     "metadata": {},
     "output_type": "execute_result"
    }
   ],
   "source": [
    "df_train.head(3)"
   ]
  },
  {
   "cell_type": "code",
   "execution_count": 5,
   "metadata": {},
   "outputs": [
    {
     "data": {
      "text/plain": [
       "(60000, 786)"
      ]
     },
     "execution_count": 5,
     "metadata": {},
     "output_type": "execute_result"
    }
   ],
   "source": [
    "df_train.shape"
   ]
  },
  {
   "cell_type": "code",
   "execution_count": 6,
   "metadata": {},
   "outputs": [],
   "source": [
    "df_imgs = df_train.drop(['label', 'id'], axis=1)\n",
    "x_original = df_imgs.as_matrix().T"
   ]
  },
  {
   "cell_type": "code",
   "execution_count": 7,
   "metadata": {},
   "outputs": [
    {
     "data": {
      "text/plain": [
       "(784, 60000)"
      ]
     },
     "execution_count": 7,
     "metadata": {},
     "output_type": "execute_result"
    }
   ],
   "source": [
    "x_original.shape"
   ]
  },
  {
   "cell_type": "code",
   "execution_count": 8,
   "metadata": {},
   "outputs": [],
   "source": [
    "y_original = df_train['label'].as_matrix()"
   ]
  },
  {
   "cell_type": "code",
   "execution_count": 9,
   "metadata": {},
   "outputs": [
    {
     "name": "stdout",
     "output_type": "stream",
     "text": [
      "y_original shape:  (1, 60000)\n"
     ]
    }
   ],
   "source": [
    "y_original = y_original.reshape(1, 60000)\n",
    "print(\"y_original shape: \", y_original.shape)"
   ]
  },
  {
   "cell_type": "code",
   "execution_count": 10,
   "metadata": {},
   "outputs": [],
   "source": [
    "def byte_int(ubyte):\n",
    "    # convert a bytes object to an int\n",
    "    # return int\n",
    "    return int.from_bytes(ubyte, byteorder='big', signed=False)\n",
    "\n",
    "def read_int(file, nbyte):\n",
    "    # read nbyte bytes from a file \n",
    "    # return an int\n",
    "    return byte_int(file.read(nbyte))\n",
    "\n",
    "def read_array(file, nbyte, nelement):\n",
    "    # read nbyte bytes for nelement numbers from a file object\n",
    "    # return a list of nelement integers \n",
    "    arr = []\n",
    "    for _ in range(nelement):\n",
    "        element = read_int(file, nbyte)\n",
    "        arr.append(element)\n",
    "    return arr\n",
    "\n",
    "def read_labels(filename):\n",
    "    # idx1 files (label files)\n",
    "    with open(filename, \"rb\") as fdata:\n",
    "        magic_number = read_int(fdata, 4)\n",
    "        if magic_number != 2049:\n",
    "            raise IOError(\"Error reading a wrong file %s with this magic number %d\" \n",
    "                          % (filename, magic_number))\n",
    "\n",
    "        nitem = read_int(fdata, 4)\n",
    "        labels = read_array(fdata, 1, nitem)\n",
    "    return pd.DataFrame({'label': labels}, dtype=np.uint8)\n"
   ]
  },
  {
   "cell_type": "code",
   "execution_count": 11,
   "metadata": {},
   "outputs": [
    {
     "name": "stdout",
     "output_type": "stream",
     "text": [
      "x shape: (784, 60000)\n",
      "y shape: (1, 60000)\n",
      "y size:  60000\n"
     ]
    },
    {
     "data": {
      "text/plain": [
       "array([5, 0, 4, ..., 5, 6, 8])"
      ]
     },
     "execution_count": 11,
     "metadata": {},
     "output_type": "execute_result"
    }
   ],
   "source": [
    "print(\"x shape:\", x_original.shape)\n",
    "print(\"y shape:\", y_original.shape)\n",
    "print(\"y size: \", np.size(y_original))\n",
    "y_original.astype(int).flatten()"
   ]
  },
  {
   "cell_type": "code",
   "execution_count": 12,
   "metadata": {},
   "outputs": [
    {
     "data": {
      "text/plain": [
       "<matplotlib.image.AxesImage at 0x1131e45f8>"
      ]
     },
     "execution_count": 12,
     "metadata": {},
     "output_type": "execute_result"
    },
    {
     "data": {
      "image/png": "[encoded data removed]",
      "text/plain": [
       "<matplotlib.figure.Figure at 0x10cdf1a20>"
      ]
     },
     "metadata": {},
     "output_type": "display_data"
    }
   ],
   "source": [
    "img0 = df_imgs.iloc[0].as_matrix()\n",
    "img0 = img0.reshape((28, 28))\n",
    "plt.imshow(img0, cmap='binary')"
   ]
  },
  {
   "cell_type": "code",
   "execution_count": 13,
   "metadata": {},
   "outputs": [],
   "source": [
    "# sample indices\n",
    "num_sample = 5000\n",
    "inds = np.random.permutation(y_original.shape[1])[:num_sample]\n",
    "x_sample = x_original[:,inds]\n",
    "y_sample = y_original[:,inds]"
   ]
  },
  {
   "cell_type": "markdown",
   "metadata": {},
   "source": [
    "## Training the Model\n",
    "The code below shows the way we train the model with the parsed input, and its label."
   ]
  },
  {
   "cell_type": "code",
   "execution_count": 16,
   "metadata": {},
   "outputs": [
    {
     "name": "stdout",
     "output_type": "stream",
     "text": [
      "x shape: (784, 60000)\n",
      "y shape: (1, 60000)\n",
      "y size:  60000\n"
     ]
    }
   ],
   "source": [
    "x = x_original\n",
    "y = y_original\n",
    "yset = list(set(y[0]))\n",
    "\n",
    "print(\"x shape:\", x.shape)\n",
    "print(\"y shape:\", y.shape)\n",
    "print(\"y size: \", np.size(y))\n",
    "\n",
    "N = x.shape[0]\n",
    "w_init = np.random.randn(N + 1, 1) # (785, 1)\n",
    "w0 = 0.01 * np.empty((N+1, 0), dtype=float)\n",
    "\n",
    "for _ in range(len(yset)):\n",
    "    w = np.array(w_init, dtype=np.float_)\n",
    "    w0 = np.append(w0, w, axis=1)\n",
    "# w0 shape = (785,10)\n",
    "\n",
    "cost_hist_arr, weight_hist, labels = get_histories(multiclass_perceptron, 1000, w0, 3, 1, 1)"
   ]
  },
  {
   "cell_type": "code",
   "execution_count": 17,
   "metadata": {},
   "outputs": [
    {
     "data": {
      "image/png": "[encoded data removed]",
      "text/plain": [
       "<matplotlib.figure.Figure at 0x112ff50b8>"
      ]
     },
     "metadata": {},
     "output_type": "display_data"
    }
   ],
   "source": [
    "plot_cost_histories(cost_hist_arr, labels)"
   ]
  },
  {
   "cell_type": "code",
   "execution_count": 18,
   "metadata": {},
   "outputs": [
    {
     "name": "stdout",
     "output_type": "stream",
     "text": [
      "(60000,)\n",
      "(1, 60000)\n",
      "miss_count 8934\n",
      "accuracy: 0.8511\n"
     ]
    }
   ],
   "source": [
    "# choose the last weight (10**-3)\n",
    "weight_opt = weight_hist[-1][-1]\n",
    "yfit = model(x, weight_opt)\n",
    "yfit = np.argmax(yfit, axis=0)\n",
    "print(yfit.shape)\n",
    "print(y.shape)\n",
    "\n",
    "miss_count, _ = number_misclassification(y, yfit)\n",
    "raw_accuracy = accuracy(miss_count, np.size(y))\n",
    "print(\"miss_count\", miss_count)\n",
    "print(\"accuracy:\", raw_accuracy)"
   ]
  },
  {
   "cell_type": "code",
   "execution_count": 19,
   "metadata": {},
   "outputs": [
    {
     "data": {
      "text/html": [
       "<div>\n",
       "<style scoped>\n",
       "    .dataframe tbody tr th:only-of-type {\n",
       "        vertical-align: middle;\n",
       "    }\n",
       "\n",
       "    .dataframe tbody tr th {\n",
       "        vertical-align: top;\n",
       "    }\n",
       "\n",
       "    .dataframe thead th {\n",
       "        text-align: right;\n",
       "    }\n",
       "</style>\n",
       "<table border=\"1\" class=\"dataframe\">\n",
       "  <thead>\n",
       "    <tr style=\"text-align: right;\">\n",
       "      <th></th>\n",
       "      <th>id</th>\n",
       "      <th>0</th>\n",
       "      <th>1</th>\n",
       "      <th>2</th>\n",
       "      <th>3</th>\n",
       "      <th>4</th>\n",
       "      <th>5</th>\n",
       "      <th>6</th>\n",
       "      <th>7</th>\n",
       "      <th>8</th>\n",
       "      <th>...</th>\n",
       "      <th>775</th>\n",
       "      <th>776</th>\n",
       "      <th>777</th>\n",
       "      <th>778</th>\n",
       "      <th>779</th>\n",
       "      <th>780</th>\n",
       "      <th>781</th>\n",
       "      <th>782</th>\n",
       "      <th>783</th>\n",
       "      <th>label</th>\n",
       "    </tr>\n",
       "  </thead>\n",
       "  <tbody>\n",
       "    <tr>\n",
       "      <th>0</th>\n",
       "      <td>0</td>\n",
       "      <td>0</td>\n",
       "      <td>0</td>\n",
       "      <td>0</td>\n",
       "      <td>0</td>\n",
       "      <td>0</td>\n",
       "      <td>0</td>\n",
       "      <td>0</td>\n",
       "      <td>0</td>\n",
       "      <td>0</td>\n",
       "      <td>...</td>\n",
       "      <td>0</td>\n",
       "      <td>0</td>\n",
       "      <td>0</td>\n",
       "      <td>0</td>\n",
       "      <td>0</td>\n",
       "      <td>0</td>\n",
       "      <td>0</td>\n",
       "      <td>0</td>\n",
       "      <td>0</td>\n",
       "      <td>7</td>\n",
       "    </tr>\n",
       "    <tr>\n",
       "      <th>1</th>\n",
       "      <td>1</td>\n",
       "      <td>0</td>\n",
       "      <td>0</td>\n",
       "      <td>0</td>\n",
       "      <td>0</td>\n",
       "      <td>0</td>\n",
       "      <td>0</td>\n",
       "      <td>0</td>\n",
       "      <td>0</td>\n",
       "      <td>0</td>\n",
       "      <td>...</td>\n",
       "      <td>0</td>\n",
       "      <td>0</td>\n",
       "      <td>0</td>\n",
       "      <td>0</td>\n",
       "      <td>0</td>\n",
       "      <td>0</td>\n",
       "      <td>0</td>\n",
       "      <td>0</td>\n",
       "      <td>0</td>\n",
       "      <td>2</td>\n",
       "    </tr>\n",
       "    <tr>\n",
       "      <th>2</th>\n",
       "      <td>2</td>\n",
       "      <td>0</td>\n",
       "      <td>0</td>\n",
       "      <td>0</td>\n",
       "      <td>0</td>\n",
       "      <td>0</td>\n",
       "      <td>0</td>\n",
       "      <td>0</td>\n",
       "      <td>0</td>\n",
       "      <td>0</td>\n",
       "      <td>...</td>\n",
       "      <td>0</td>\n",
       "      <td>0</td>\n",
       "      <td>0</td>\n",
       "      <td>0</td>\n",
       "      <td>0</td>\n",
       "      <td>0</td>\n",
       "      <td>0</td>\n",
       "      <td>0</td>\n",
       "      <td>0</td>\n",
       "      <td>1</td>\n",
       "    </tr>\n",
       "  </tbody>\n",
       "</table>\n",
       "<p>3 rows × 786 columns</p>\n",
       "</div>"
      ],
      "text/plain": [
       "   id  0  1  2  3  4  5  6  7  8  ...    775  776  777  778  779  780  781  \\\n",
       "0   0  0  0  0  0  0  0  0  0  0  ...      0    0    0    0    0    0    0   \n",
       "1   1  0  0  0  0  0  0  0  0  0  ...      0    0    0    0    0    0    0   \n",
       "2   2  0  0  0  0  0  0  0  0  0  ...      0    0    0    0    0    0    0   \n",
       "\n",
       "   782  783  label  \n",
       "0    0    0      7  \n",
       "1    0    0      2  \n",
       "2    0    0      1  \n",
       "\n",
       "[3 rows x 786 columns]"
      ]
     },
     "execution_count": 19,
     "metadata": {},
     "output_type": "execute_result"
    }
   ],
   "source": [
    "df_testdata = pd.read_csv(\"./testdata.csv\", dtype=np.uint8)\n",
    "df_testdata.head(3)"
   ]
  },
  {
   "cell_type": "code",
   "execution_count": 20,
   "metadata": {},
   "outputs": [
    {
     "name": "stdout",
     "output_type": "stream",
     "text": [
      "xtest shape: (784, 10000)\n"
     ]
    }
   ],
   "source": [
    "df_testimgs = df_testdata.drop(['label', 'id'], axis=1)\n",
    "xtest = df_testimgs.as_matrix().T\n",
    "print(\"xtest shape:\", xtest.shape)"
   ]
  },
  {
   "cell_type": "code",
   "execution_count": 21,
   "metadata": {},
   "outputs": [
    {
     "name": "stdout",
     "output_type": "stream",
     "text": [
      "ytest shape: (1, 10000)\n"
     ]
    }
   ],
   "source": [
    "ytest = df_testdata['label'].as_matrix()\n",
    "ytest = ytest.reshape((10000, 1)).T\n",
    "print(\"ytest shape:\", ytest.shape)"
   ]
  },
  {
   "cell_type": "code",
   "execution_count": 22,
   "metadata": {},
   "outputs": [
    {
     "name": "stdout",
     "output_type": "stream",
     "text": [
      "yfit_test shape: (10000,)\n",
      "yfit_test[0]: 7\n",
      "miss_count 1530\n",
      "accuracy: 0.847\n"
     ]
    }
   ],
   "source": [
    "yfit_test = model(xtest, weight_opt)\n",
    "yfit_test = np.argmax(yfit_test, axis=0)\n",
    "print(\"yfit_test shape:\", yfit_test.shape)\n",
    "print(\"yfit_test[0]:\", yfit_test[0])\n",
    "ytest[0][0]\n",
    "\n",
    "miss_count, _ = number_misclassification(ytest, yfit_test)\n",
    "raw_accuracy = accuracy(miss_count, np.size(ytest))\n",
    "print(\"miss_count\", miss_count)\n",
    "print(\"accuracy:\", raw_accuracy)"
   ]
  },
  {
   "cell_type": "markdown",
   "metadata": {},
   "source": [
    "The accuracy of this algorithm is only 84%.\n",
    "\n",
    "## Scaling the Input\n",
    "We will attempt to scale the input, and let's see if the accuracy can be improved."
   ]
  },
  {
   "cell_type": "code",
   "execution_count": null,
   "metadata": {},
   "outputs": [],
   "source": [
    "xmax = np.max(x_original)\n",
    "\n",
    "x_original_scale = x_original/xmax"
   ]
  },
  {
   "cell_type": "code",
   "execution_count": null,
   "metadata": {},
   "outputs": [],
   "source": [
    "x = x_original_scale\n",
    "y = y_original\n",
    "yset = list(set(y[0]))\n",
    "\n",
    "print(\"x shape:\", x.shape)\n",
    "print(\"y shape:\", y.shape)\n",
    "print(\"y size: \", np.size(y))\n",
    "\n",
    "N = x.shape[0]\n",
    "w_init = np.random.randn(N + 1, 1) # (785, 1)\n",
    "w0 = 0.01 * np.empty((N+1, 0), dtype=float)\n",
    "\n",
    "for _ in range(len(yset)):\n",
    "    w = np.array(w_init, dtype=np.float_)\n",
    "    w0 = np.append(w0, w, axis=1)\n",
    "# w0 shape = (785,10)\n",
    "\n",
    "cost_hist_arr, weight_hist, labels = get_histories(multiclass_perceptron, 1000, w0, 3, 1, 1)"
   ]
  },
  {
   "cell_type": "code",
   "execution_count": null,
   "metadata": {},
   "outputs": [],
   "source": [
    "plot_cost_histories(cost_hist_arr, labels)"
   ]
  },
  {
   "cell_type": "code",
   "execution_count": null,
   "metadata": {},
   "outputs": [],
   "source": [
    "# choose the last weight (10**-3)\n",
    "weight_opt = weight_hist[-1][-1]\n",
    "yfit = model(x, weight_opt)\n",
    "yfit = np.argmax(yfit, axis=0)\n",
    "print(yfit.shape)\n",
    "print(y.shape)\n",
    "\n",
    "miss_count, _ = number_misclassification(y, yfit)\n",
    "raw_accuracy = accuracy(miss_count, np.size(y))\n",
    "print(\"miss_count\", miss_count)\n",
    "print(\"accuracy:\", raw_accuracy)"
   ]
  }
 ],
 "metadata": {
  "kernelspec": {
   "display_name": "Python 3",
   "language": "python",
   "name": "python3"
  },
  "language_info": {
   "codemirror_mode": {
    "name": "ipython",
    "version": 3
   },
   "file_extension": ".py",
   "mimetype": "text/x-python",
   "name": "python",
   "nbconvert_exporter": "python",
   "pygments_lexer": "ipython3",
   "version": "3.6.4"
  },
  "toc": {
   "base_numbering": 1,
   "nav_menu": {},
   "number_sections": true,
   "sideBar": true,
   "skip_h1_title": false,
   "title_cell": "Table of Contents",
   "title_sidebar": "Contents",
   "toc_cell": true,
   "toc_position": {},
   "toc_section_display": true,
   "toc_window_display": true
  }
 },
 "nbformat": 4,
 "nbformat_minor": 2
}

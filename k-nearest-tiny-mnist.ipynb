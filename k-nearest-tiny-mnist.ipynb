{
 "cells": [
  {
   "cell_type": "markdown",
   "metadata": {},
   "source": [
    "In this notebook, we'll use k-nearest neighbor algorithm for tiny sample of MNIST. The algorithm works well here. However, on the full datasets of MNIST, it fails badly. Maybe it is because the full dataset has not been preprocessed yet!"
   ]
  },
  {
   "cell_type": "code",
   "execution_count": 35,
   "metadata": {},
   "outputs": [
    {
     "name": "stdout",
     "output_type": "stream",
     "text": [
      "Number of misclassifications:  4\n",
      "Percentage of correct classifications:  98.88888888888889 %\n"
     ]
    }
   ],
   "source": [
    "import numpy as np\n",
    "from sklearn.model_selection import train_test_split\n",
    "from sklearn import datasets\n",
    "\n",
    "#predict function using k-nearest algorithm\n",
    "def predict_k_nearest(z, x_sample, y_sample, k):\n",
    "    #find the distance between z and sample points\n",
    "    diff_arr = (x_sample.T - z).T \n",
    "    dis_arr = np.zeros(np.size(y_sample[0]))\n",
    "    \n",
    "    for i in range(np.size(x_sample.T[0])):\n",
    "        dis_arr = dis_arr + np.square(diff_arr[i])\n",
    "    \n",
    "    #find the k nearest neighbors \n",
    "    idx = np.argpartition(dis_arr, k)\n",
    "    y_res = (y_sample[0][idx[:k]]).astype(int)\n",
    "    \n",
    "    #find the most common class in the k nearest neighbors\n",
    "    counts = np.bincount(y_res)\n",
    "    \n",
    "    #return the most common class in the k nearest neighbor\n",
    "    return np.argmax(counts)\n",
    "\n",
    "#load mnist\n",
    "mnist = datasets.load_digits()\n",
    "\n",
    "#split train and test Data\n",
    "(trainData, testData, trainLabels, testLabels) = train_test_split(np.array(mnist.data), mnist.target, test_size=0.2, random_state=42)\n",
    "\n",
    "#set k\n",
    "k = 6\n",
    "\n",
    "#compute number of misclassifications\n",
    "num_mis = 0\n",
    "\n",
    "for i in range(np.size(testLabels)):\n",
    "    if predict_k_nearest(testData[i], trainData.T, trainLabels.reshape(1,np.size(trainLabels)), k) != testLabels[i]:\n",
    "        num_mis += 1\n",
    "\n",
    "#print number of misclassifications\n",
    "print(\"Number of misclassifications: \", num_mis)\n",
    "\n",
    "#print percentage of accurate classifications\n",
    "print(\"Percentage of correct classifications: \", (1 - num_mis/np.size(testLabels))*100,\"%\")"
   ]
  },
  {
   "cell_type": "code",
   "execution_count": null,
   "metadata": {},
   "outputs": [],
   "source": []
  }
 ],
 "metadata": {
  "kernelspec": {
   "display_name": "Python 3",
   "language": "python",
   "name": "python3"
  },
  "language_info": {
   "codemirror_mode": {
    "name": "ipython",
    "version": 3
   },
   "file_extension": ".py",
   "mimetype": "text/x-python",
   "name": "python",
   "nbconvert_exporter": "python",
   "pygments_lexer": "ipython3",
   "version": "3.7.0"
  }
 },
 "nbformat": 4,
 "nbformat_minor": 2
}

{
 "cells": [
  {
   "cell_type": "code",
   "execution_count": 2,
   "metadata": {},
   "outputs": [
    {
     "name": "stderr",
     "output_type": "stream",
     "text": [
      "/anaconda3/lib/python3.7/site-packages/ipykernel_launcher.py:13: FutureWarning: Method .as_matrix will be removed in a future version. Use .values instead.\n",
      "  del sys.path[0]\n",
      "/anaconda3/lib/python3.7/site-packages/ipykernel_launcher.py:14: FutureWarning: Method .as_matrix will be removed in a future version. Use .values instead.\n",
      "  \n",
      "/anaconda3/lib/python3.7/site-packages/ipykernel_launcher.py:17: FutureWarning: Method .as_matrix will be removed in a future version. Use .values instead.\n",
      "/anaconda3/lib/python3.7/site-packages/ipykernel_launcher.py:18: FutureWarning: Method .as_matrix will be removed in a future version. Use .values instead.\n"
     ]
    }
   ],
   "source": [
    "import numpy as np\n",
    "from sklearn.datasets import fetch_mldata\n",
    "import data_transformer\n",
    "from sklearn.model_selection import train_test_split\n",
    "from sklearn import datasets\n",
    "import pandas as pd\n",
    "\n",
    "#parse data\n",
    "df_train = pd.read_csv(\"./traindata.csv\", dtype = np.uint8)\n",
    "df_test = pd.read_csv(\"./testdata.csv\", dtype = np.uint8)\n",
    "\n",
    "df_imgs = df_train.drop([\"label\", \"id\"], axis = 1)\n",
    "x_original = df_imgs.as_matrix()\n",
    "y_original = df_train[\"label\"].as_matrix()\n",
    "\n",
    "df_testimgs = df_test.drop([\"label\", \"id\"], axis = 1)\n",
    "x_test = df_testimgs.as_matrix()\n",
    "y_test = df_test[\"label\"].as_matrix()\n",
    "\n",
    "#predict function using k-nearest algorithm\n",
    "def predict_k_nearest(z, x_sample, y_sample, k):\n",
    "    #find the distance between z and sample points\n",
    "    diff_arr = x_sample - z \n",
    "    dis_arr = np.zeros(np.size(y_sample))\n",
    "    \n",
    "    for i in range(np.size(x_sample[0])):\n",
    "        dis_arr = dis_arr + np.abs(diff_arr.T[i])\n",
    "    \n",
    "    #find the k nearest neighbors \n",
    "    idx = np.argpartition(dis_arr, k)\n",
    "    y_res = (y_sample[idx[:k]]).astype(int)\n",
    "    \n",
    "    #find the most common class in the k nearest neighbors\n",
    "    counts = np.bincount(y_res)\n",
    "    \n",
    "    #return the most common class in the k nearest neighbor\n",
    "    return np.argmax(counts)"
   ]
  },
  {
   "cell_type": "code",
   "execution_count": 3,
   "metadata": {},
   "outputs": [],
   "source": [
    "# extract edge-based features\n",
    "x_train_edgebased = data_transformer.edge_transformer(x_original.T)\n",
    "x_test_edgebased = data_transformer.edge_transformer(x_test.T)\n",
    "\n",
    "x_train_edgebased = x_train_edgebased.T\n",
    "x_test_edgebased = x_test_edgebased.T"
   ]
  },
  {
   "cell_type": "code",
   "execution_count": 9,
   "metadata": {},
   "outputs": [
    {
     "name": "stdout",
     "output_type": "stream",
     "text": [
      "Classification accuracy:  98.5 %\n"
     ]
    }
   ],
   "source": [
    "#set k\n",
    "k = 5\n",
    "\n",
    "#set number for testing\n",
    "num_test = 400\n",
    "\n",
    "#compute number of misclassifications\n",
    "num_mis = 0\n",
    "\n",
    "for i in range(num_test):\n",
    "    if predict_k_nearest(x_test_edgebased[i], x_train_edgebased, y_original, k) != y_test[i]:\n",
    "        num_mis += 1\n",
    "\n",
    "#print percentage of accuracy\n",
    "print(\"Classification accuracy: \", (1 - num_mis/num_test) * 100, \"%\")"
   ]
  },
  {
   "cell_type": "code",
   "execution_count": null,
   "metadata": {},
   "outputs": [],
   "source": []
  }
 ],
 "metadata": {
  "kernelspec": {
   "display_name": "Python 3",
   "language": "python",
   "name": "python3"
  },
  "language_info": {
   "codemirror_mode": {
    "name": "ipython",
    "version": 3
   },
   "file_extension": ".py",
   "mimetype": "text/x-python",
   "name": "python",
   "nbconvert_exporter": "python",
   "pygments_lexer": "ipython3",
   "version": "3.7.0"
  }
 },
 "nbformat": 4,
 "nbformat_minor": 2
}
